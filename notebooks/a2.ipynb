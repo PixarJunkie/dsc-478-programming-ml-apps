{
 "cells": [
  {
   "cell_type": "markdown",
   "metadata": {},
   "source": [
    "# Homework 2"
   ]
  },
  {
   "cell_type": "markdown",
   "metadata": {},
   "source": [
    "#### Package Imports"
   ]
  },
  {
   "cell_type": "code",
   "execution_count": 38,
   "metadata": {},
   "outputs": [],
   "source": [
    "import pandas as pd \n",
    "import numpy as np\n",
    "from scipy import spatial\n",
    "from sklearn.model_selection import train_test_split, GridSearchCV, cross_val_score\n",
    "from sklearn import preprocessing, metrics\n",
    "from sklearn.neighbors import KNeighborsClassifier\n",
    "from sklearn.naive_bayes import GaussianNB\n",
    "from sklearn.tree import DecisionTreeClassifier, export_graphviz\n",
    "from sklearn.discriminant_analysis import LinearDiscriminantAnalysis\n",
    "import matplotlib.pyplot as plt\n",
    "import pydot\n",
    "import operator\n",
    "import warnings\n",
    "\n",
    "%matplotlib inline\n",
    "warnings.filterwarnings('ignore')"
   ]
  },
  {
   "cell_type": "markdown",
   "metadata": {},
   "source": [
    "___"
   ]
  },
  {
   "cell_type": "markdown",
   "metadata": {},
   "source": [
    "## Problem 1 \n",
    "\n",
    "K-Nearest-Neighbor (KNN) classification on Newsgroups Dataset: newsgroups.zip \n",
    "\n",
    "For this problem you will use a subset of the 20 Newsgroup data set. The full data set contains 20,000 newsgroup\n",
    "documents, partitioned (nearly) evenly across 20 different newsgroups and has been often used for experiments in\n",
    "text applications of machine learning techniques, such as text classification and text clustering (see the description\n",
    "of the full dataset). The assignment data set contains a subset of 1000 documents and a vocabulary of terms.\n",
    "Each document belongs to one of two classes Hockey (class label 1) and Microsoft Windows (class label 0). The\n",
    "data has already been split (80%, 20%) into training and test data. The class labels for the training and test data are\n",
    "also provided in separate files. The training and test data contain a row for each term in the vocabulary and a\n",
    "column for each document. The values in the table represent raw term frequencies. The data has already been\n",
    "preprocessed to extract terms, remove stop words and perform stemming (so, the vocabulary contains stems not\n",
    "full terms). Please be sure to read the readme.txt file in the distribution. \n",
    "\n",
    "Your tasks in this problem are the following Note: for this problem you should not use scikit-learn for\n",
    "classification, but create your own KNN classifer. You may use Pandas, NumPy, standard Python\n",
    "libraries, and Matplotlib."
   ]
  },
  {
   "cell_type": "code",
   "execution_count": 2,
   "metadata": {},
   "outputs": [],
   "source": [
    "#Import data\n",
    "train_features = np.loadtxt('https://raw.githubusercontent.com/PixarJunkie/dsc-478-programming-ml-apps/master/data/news-data/trainMatrixModified.txt')\n",
    "train_target = np.loadtxt('https://raw.githubusercontent.com/PixarJunkie/dsc-478-programming-ml-apps/master/data/news-data/trainClasses.txt')\n",
    "test_features = np.loadtxt('https://raw.githubusercontent.com/PixarJunkie/dsc-478-programming-ml-apps/master/data/news-data/testMatrixModified.txt')\n",
    "test_target = np.loadtxt('https://raw.githubusercontent.com/PixarJunkie/dsc-478-programming-ml-apps/master/data/news-data/testClasses.txt')\n",
    "mod_terms = pd.read_csv('https://raw.githubusercontent.com/PixarJunkie/dsc-478-programming-ml-apps/master/data/news-data/modifiedterms.txt', delimiter = '\\t', header = None)"
   ]
  },
  {
   "cell_type": "markdown",
   "metadata": {},
   "source": [
    "___"
   ]
  },
  {
   "cell_type": "markdown",
   "metadata": {},
   "source": [
    "### Problem 1a  \n",
    "\n",
    "Create your own KNN classifier function. Your classifier should allow as input the training data matrix,\n",
    "the training labels, the instance to be classified, the value of K, and should return the predicted class for\n",
    "the instance and the top K neighbors. Your classifier should work with Euclidean distance as well as\n",
    "Cosine Similarity. You may create two separate classifiers, or add this capability as a parameter for the\n",
    "classifier function."
   ]
  },
  {
   "cell_type": "code",
   "execution_count": 45,
   "metadata": {},
   "outputs": [],
   "source": [
    "#KNN function\n",
    "def knn(X_train, instance, terms, k, similarity):\n",
    "    #Use cosine distance if similarity = cosine\n",
    "    if similarity == 'cosine':\n",
    "        D_norm = np.array([np.linalg.norm(X_train[i]) for i in range(len(X_train))])\n",
    "        x_norm = np.linalg.norm(instance)\n",
    "        sims = np.dot(X_train, instance) / (D_norm * x_norm)\n",
    "        dists = 1 - sims\n",
    "    #Use euclidean distance if similarity = euclidean     \n",
    "    elif similarity == 'euclidean':\n",
    "        #From class\n",
    "        dists = np.sqrt(((X_train - instance)**2).sum(axis = 1))\n",
    "    #Get sort dists and get indicies\n",
    "    idx = np.argsort(dists)\n",
    "    \n",
    "    clslbl = (terms[1][idx[:k]])\n",
    "    if (clslbl == 1).sum() == (clslbl == 0).sum():\n",
    "        pred_cls = '?'\n",
    "    elif (clslbl == 1).sum() > (clslbl == 0).sum():\n",
    "        pred_cls = 1\n",
    "    else:\n",
    "        pred_cls = 0\n",
    "\n",
    "    top_K_neighbors = train[idx[:k]]\n",
    "\n",
    "    return pred_cls, top_K_neighbors"
   ]
  },
  {
   "cell_type": "code",
   "execution_count": 46,
   "metadata": {},
   "outputs": [
    {
     "ename": "KeyError",
     "evalue": "1",
     "output_type": "error",
     "traceback": [
      "\u001b[1;31m---------------------------------------------------------------------------\u001b[0m",
      "\u001b[1;31mKeyError\u001b[0m                                  Traceback (most recent call last)",
      "\u001b[1;32m~\\Anaconda3\\lib\\site-packages\\pandas\\core\\indexes\\base.py\u001b[0m in \u001b[0;36mget_loc\u001b[1;34m(self, key, method, tolerance)\u001b[0m\n\u001b[0;32m   2896\u001b[0m             \u001b[1;32mtry\u001b[0m\u001b[1;33m:\u001b[0m\u001b[1;33m\u001b[0m\u001b[1;33m\u001b[0m\u001b[0m\n\u001b[1;32m-> 2897\u001b[1;33m                 \u001b[1;32mreturn\u001b[0m \u001b[0mself\u001b[0m\u001b[1;33m.\u001b[0m\u001b[0m_engine\u001b[0m\u001b[1;33m.\u001b[0m\u001b[0mget_loc\u001b[0m\u001b[1;33m(\u001b[0m\u001b[0mkey\u001b[0m\u001b[1;33m)\u001b[0m\u001b[1;33m\u001b[0m\u001b[1;33m\u001b[0m\u001b[0m\n\u001b[0m\u001b[0;32m   2898\u001b[0m             \u001b[1;32mexcept\u001b[0m \u001b[0mKeyError\u001b[0m\u001b[1;33m:\u001b[0m\u001b[1;33m\u001b[0m\u001b[1;33m\u001b[0m\u001b[0m\n",
      "\u001b[1;32mpandas\\_libs\\index.pyx\u001b[0m in \u001b[0;36mpandas._libs.index.IndexEngine.get_loc\u001b[1;34m()\u001b[0m\n",
      "\u001b[1;32mpandas\\_libs\\index.pyx\u001b[0m in \u001b[0;36mpandas._libs.index.IndexEngine.get_loc\u001b[1;34m()\u001b[0m\n",
      "\u001b[1;32mpandas\\_libs\\hashtable_class_helper.pxi\u001b[0m in \u001b[0;36mpandas._libs.hashtable.Int64HashTable.get_item\u001b[1;34m()\u001b[0m\n",
      "\u001b[1;32mpandas\\_libs\\hashtable_class_helper.pxi\u001b[0m in \u001b[0;36mpandas._libs.hashtable.Int64HashTable.get_item\u001b[1;34m()\u001b[0m\n",
      "\u001b[1;31mKeyError\u001b[0m: 1",
      "\nDuring handling of the above exception, another exception occurred:\n",
      "\u001b[1;31mKeyError\u001b[0m                                  Traceback (most recent call last)",
      "\u001b[1;32m<ipython-input-46-5d8e2135d88e>\u001b[0m in \u001b[0;36m<module>\u001b[1;34m\u001b[0m\n\u001b[1;32m----> 1\u001b[1;33m \u001b[0mtest_1\u001b[0m \u001b[1;33m=\u001b[0m \u001b[0mknn\u001b[0m\u001b[1;33m(\u001b[0m\u001b[0mtrain_features\u001b[0m\u001b[1;33m,\u001b[0m \u001b[0mtrain_features\u001b[0m\u001b[1;33m[\u001b[0m\u001b[1;36m2\u001b[0m\u001b[1;33m]\u001b[0m\u001b[1;33m,\u001b[0m \u001b[0mmod_terms\u001b[0m\u001b[1;33m,\u001b[0m \u001b[1;36m5\u001b[0m\u001b[1;33m,\u001b[0m \u001b[1;34m'cosine'\u001b[0m\u001b[1;33m)\u001b[0m\u001b[1;33m\u001b[0m\u001b[1;33m\u001b[0m\u001b[0m\n\u001b[0m",
      "\u001b[1;32m<ipython-input-45-295d9ccac06d>\u001b[0m in \u001b[0;36mknn\u001b[1;34m(X_train, instance, terms, k, similarity)\u001b[0m\n\u001b[0;32m     14\u001b[0m     \u001b[0midx\u001b[0m \u001b[1;33m=\u001b[0m \u001b[0mnp\u001b[0m\u001b[1;33m.\u001b[0m\u001b[0margsort\u001b[0m\u001b[1;33m(\u001b[0m\u001b[0mdists\u001b[0m\u001b[1;33m)\u001b[0m\u001b[1;33m\u001b[0m\u001b[1;33m\u001b[0m\u001b[0m\n\u001b[0;32m     15\u001b[0m \u001b[1;33m\u001b[0m\u001b[0m\n\u001b[1;32m---> 16\u001b[1;33m     \u001b[0mclslbl\u001b[0m \u001b[1;33m=\u001b[0m \u001b[1;33m(\u001b[0m\u001b[0mterms\u001b[0m\u001b[1;33m[\u001b[0m\u001b[1;36m1\u001b[0m\u001b[1;33m]\u001b[0m\u001b[1;33m[\u001b[0m\u001b[0midx\u001b[0m\u001b[1;33m[\u001b[0m\u001b[1;33m:\u001b[0m\u001b[0mk\u001b[0m\u001b[1;33m]\u001b[0m\u001b[1;33m]\u001b[0m\u001b[1;33m)\u001b[0m\u001b[1;33m\u001b[0m\u001b[1;33m\u001b[0m\u001b[0m\n\u001b[0m\u001b[0;32m     17\u001b[0m     \u001b[1;32mif\u001b[0m \u001b[1;33m(\u001b[0m\u001b[0mclslbl\u001b[0m \u001b[1;33m==\u001b[0m \u001b[1;36m1\u001b[0m\u001b[1;33m)\u001b[0m\u001b[1;33m.\u001b[0m\u001b[0msum\u001b[0m\u001b[1;33m(\u001b[0m\u001b[1;33m)\u001b[0m \u001b[1;33m==\u001b[0m \u001b[1;33m(\u001b[0m\u001b[0mclslbl\u001b[0m \u001b[1;33m==\u001b[0m \u001b[1;36m0\u001b[0m\u001b[1;33m)\u001b[0m\u001b[1;33m.\u001b[0m\u001b[0msum\u001b[0m\u001b[1;33m(\u001b[0m\u001b[1;33m)\u001b[0m\u001b[1;33m:\u001b[0m\u001b[1;33m\u001b[0m\u001b[1;33m\u001b[0m\u001b[0m\n\u001b[0;32m     18\u001b[0m         \u001b[0mpred_cls\u001b[0m \u001b[1;33m=\u001b[0m \u001b[1;34m'?'\u001b[0m\u001b[1;33m\u001b[0m\u001b[1;33m\u001b[0m\u001b[0m\n",
      "\u001b[1;32m~\\Anaconda3\\lib\\site-packages\\pandas\\core\\frame.py\u001b[0m in \u001b[0;36m__getitem__\u001b[1;34m(self, key)\u001b[0m\n\u001b[0;32m   2978\u001b[0m             \u001b[1;32mif\u001b[0m \u001b[0mself\u001b[0m\u001b[1;33m.\u001b[0m\u001b[0mcolumns\u001b[0m\u001b[1;33m.\u001b[0m\u001b[0mnlevels\u001b[0m \u001b[1;33m>\u001b[0m \u001b[1;36m1\u001b[0m\u001b[1;33m:\u001b[0m\u001b[1;33m\u001b[0m\u001b[1;33m\u001b[0m\u001b[0m\n\u001b[0;32m   2979\u001b[0m                 \u001b[1;32mreturn\u001b[0m \u001b[0mself\u001b[0m\u001b[1;33m.\u001b[0m\u001b[0m_getitem_multilevel\u001b[0m\u001b[1;33m(\u001b[0m\u001b[0mkey\u001b[0m\u001b[1;33m)\u001b[0m\u001b[1;33m\u001b[0m\u001b[1;33m\u001b[0m\u001b[0m\n\u001b[1;32m-> 2980\u001b[1;33m             \u001b[0mindexer\u001b[0m \u001b[1;33m=\u001b[0m \u001b[0mself\u001b[0m\u001b[1;33m.\u001b[0m\u001b[0mcolumns\u001b[0m\u001b[1;33m.\u001b[0m\u001b[0mget_loc\u001b[0m\u001b[1;33m(\u001b[0m\u001b[0mkey\u001b[0m\u001b[1;33m)\u001b[0m\u001b[1;33m\u001b[0m\u001b[1;33m\u001b[0m\u001b[0m\n\u001b[0m\u001b[0;32m   2981\u001b[0m             \u001b[1;32mif\u001b[0m \u001b[0mis_integer\u001b[0m\u001b[1;33m(\u001b[0m\u001b[0mindexer\u001b[0m\u001b[1;33m)\u001b[0m\u001b[1;33m:\u001b[0m\u001b[1;33m\u001b[0m\u001b[1;33m\u001b[0m\u001b[0m\n\u001b[0;32m   2982\u001b[0m                 \u001b[0mindexer\u001b[0m \u001b[1;33m=\u001b[0m \u001b[1;33m[\u001b[0m\u001b[0mindexer\u001b[0m\u001b[1;33m]\u001b[0m\u001b[1;33m\u001b[0m\u001b[1;33m\u001b[0m\u001b[0m\n",
      "\u001b[1;32m~\\Anaconda3\\lib\\site-packages\\pandas\\core\\indexes\\base.py\u001b[0m in \u001b[0;36mget_loc\u001b[1;34m(self, key, method, tolerance)\u001b[0m\n\u001b[0;32m   2897\u001b[0m                 \u001b[1;32mreturn\u001b[0m \u001b[0mself\u001b[0m\u001b[1;33m.\u001b[0m\u001b[0m_engine\u001b[0m\u001b[1;33m.\u001b[0m\u001b[0mget_loc\u001b[0m\u001b[1;33m(\u001b[0m\u001b[0mkey\u001b[0m\u001b[1;33m)\u001b[0m\u001b[1;33m\u001b[0m\u001b[1;33m\u001b[0m\u001b[0m\n\u001b[0;32m   2898\u001b[0m             \u001b[1;32mexcept\u001b[0m \u001b[0mKeyError\u001b[0m\u001b[1;33m:\u001b[0m\u001b[1;33m\u001b[0m\u001b[1;33m\u001b[0m\u001b[0m\n\u001b[1;32m-> 2899\u001b[1;33m                 \u001b[1;32mreturn\u001b[0m \u001b[0mself\u001b[0m\u001b[1;33m.\u001b[0m\u001b[0m_engine\u001b[0m\u001b[1;33m.\u001b[0m\u001b[0mget_loc\u001b[0m\u001b[1;33m(\u001b[0m\u001b[0mself\u001b[0m\u001b[1;33m.\u001b[0m\u001b[0m_maybe_cast_indexer\u001b[0m\u001b[1;33m(\u001b[0m\u001b[0mkey\u001b[0m\u001b[1;33m)\u001b[0m\u001b[1;33m)\u001b[0m\u001b[1;33m\u001b[0m\u001b[1;33m\u001b[0m\u001b[0m\n\u001b[0m\u001b[0;32m   2900\u001b[0m         \u001b[0mindexer\u001b[0m \u001b[1;33m=\u001b[0m \u001b[0mself\u001b[0m\u001b[1;33m.\u001b[0m\u001b[0mget_indexer\u001b[0m\u001b[1;33m(\u001b[0m\u001b[1;33m[\u001b[0m\u001b[0mkey\u001b[0m\u001b[1;33m]\u001b[0m\u001b[1;33m,\u001b[0m \u001b[0mmethod\u001b[0m\u001b[1;33m=\u001b[0m\u001b[0mmethod\u001b[0m\u001b[1;33m,\u001b[0m \u001b[0mtolerance\u001b[0m\u001b[1;33m=\u001b[0m\u001b[0mtolerance\u001b[0m\u001b[1;33m)\u001b[0m\u001b[1;33m\u001b[0m\u001b[1;33m\u001b[0m\u001b[0m\n\u001b[0;32m   2901\u001b[0m         \u001b[1;32mif\u001b[0m \u001b[0mindexer\u001b[0m\u001b[1;33m.\u001b[0m\u001b[0mndim\u001b[0m \u001b[1;33m>\u001b[0m \u001b[1;36m1\u001b[0m \u001b[1;32mor\u001b[0m \u001b[0mindexer\u001b[0m\u001b[1;33m.\u001b[0m\u001b[0msize\u001b[0m \u001b[1;33m>\u001b[0m \u001b[1;36m1\u001b[0m\u001b[1;33m:\u001b[0m\u001b[1;33m\u001b[0m\u001b[1;33m\u001b[0m\u001b[0m\n",
      "\u001b[1;32mpandas\\_libs\\index.pyx\u001b[0m in \u001b[0;36mpandas._libs.index.IndexEngine.get_loc\u001b[1;34m()\u001b[0m\n",
      "\u001b[1;32mpandas\\_libs\\index.pyx\u001b[0m in \u001b[0;36mpandas._libs.index.IndexEngine.get_loc\u001b[1;34m()\u001b[0m\n",
      "\u001b[1;32mpandas\\_libs\\hashtable_class_helper.pxi\u001b[0m in \u001b[0;36mpandas._libs.hashtable.Int64HashTable.get_item\u001b[1;34m()\u001b[0m\n",
      "\u001b[1;32mpandas\\_libs\\hashtable_class_helper.pxi\u001b[0m in \u001b[0;36mpandas._libs.hashtable.Int64HashTable.get_item\u001b[1;34m()\u001b[0m\n",
      "\u001b[1;31mKeyError\u001b[0m: 1"
     ]
    }
   ],
   "source": [
    "test_1 = knn(train_features, train_features[2], mod_terms, 5, 'cosine')"
   ]
  },
  {
   "cell_type": "markdown",
   "metadata": {},
   "source": [
    "___"
   ]
  },
  {
   "cell_type": "markdown",
   "metadata": {},
   "source": [
    "#### Problem 1b \n",
    "Create a function to compute the classification accuracy over the test data set (ratio of correct\n",
    "predictions to the number of test instances). This function will call the classifier function in part a on all\n",
    "the test instances and in each case compares the actual test class label to the predicted class label."
   ]
  },
  {
   "cell_type": "code",
   "execution_count": null,
   "metadata": {},
   "outputs": [],
   "source": [
    "#Accuracy funtion\n",
    "def knn_acc(y_test)"
   ]
  },
  {
   "cell_type": "markdown",
   "metadata": {},
   "source": [
    "___"
   ]
  },
  {
   "cell_type": "markdown",
   "metadata": {},
   "source": [
    "## Problem 2 \n",
    "\n",
    "Classification using scikit-learn Dataset: bank_data.csv \n",
    "\n",
    "For this problem you will experiment with various classifiers provided as part of the scikit-learn (sklearn) machine\n",
    "learning module, as well as with some of its preprocessing and model evaluation capabilities. Note: This module\n",
    "is already part of the Anaconda distributions. However, if you are using standalone Python distributions, you will\n",
    "need to first obtain and install it. You will work with a modified subset of a real data set of customers for a bank.\n",
    "This is the same data set used in Assignment 1. The data is provided in a CSV formatted file with the first row\n",
    "containing the attribute names. "
   ]
  },
  {
   "cell_type": "markdown",
   "metadata": {},
   "source": [
    "___"
   ]
  },
  {
   "cell_type": "markdown",
   "metadata": {},
   "source": [
    "### Problem 2a \n",
    "Load and preprocess the data using Numpy or Pandas and the preprocessing functions from scikitlearn. Specifically, you need to separate the target attribute (\"pep\") from the portion of the data to be\n",
    "used for training and testing. You will need to convert the selected dataset into the Standard\n",
    "Spreadsheet format (scikit-learn functions generally assume that all attributes are in numeric form).\n",
    "Finally, you need to split the transformed data into training and test sets (using 80%-\n",
    "20% randomized split). Review Ipython Notebook examples from Week 4 for different ways to perform\n",
    "these tasks."
   ]
  },
  {
   "cell_type": "code",
   "execution_count": 6,
   "metadata": {},
   "outputs": [
    {
     "data": {
      "text/html": [
       "<div>\n",
       "<style scoped>\n",
       "    .dataframe tbody tr th:only-of-type {\n",
       "        vertical-align: middle;\n",
       "    }\n",
       "\n",
       "    .dataframe tbody tr th {\n",
       "        vertical-align: top;\n",
       "    }\n",
       "\n",
       "    .dataframe thead th {\n",
       "        text-align: right;\n",
       "    }\n",
       "</style>\n",
       "<table border=\"1\" class=\"dataframe\">\n",
       "  <thead>\n",
       "    <tr style=\"text-align: right;\">\n",
       "      <th></th>\n",
       "      <th>age</th>\n",
       "      <th>income</th>\n",
       "      <th>children</th>\n",
       "      <th>gender_FEMALE</th>\n",
       "      <th>gender_MALE</th>\n",
       "      <th>region_INNER_CITY</th>\n",
       "      <th>region_RURAL</th>\n",
       "      <th>region_SUBURBAN</th>\n",
       "      <th>region_TOWN</th>\n",
       "      <th>married_NO</th>\n",
       "      <th>married_YES</th>\n",
       "      <th>car_NO</th>\n",
       "      <th>car_YES</th>\n",
       "      <th>savings_acct_NO</th>\n",
       "      <th>savings_acct_YES</th>\n",
       "      <th>current_acct_NO</th>\n",
       "      <th>current_acct_YES</th>\n",
       "      <th>mortgage_NO</th>\n",
       "      <th>mortgage_YES</th>\n",
       "    </tr>\n",
       "  </thead>\n",
       "  <tbody>\n",
       "    <tr>\n",
       "      <td>0</td>\n",
       "      <td>48</td>\n",
       "      <td>17546.0</td>\n",
       "      <td>1</td>\n",
       "      <td>1</td>\n",
       "      <td>0</td>\n",
       "      <td>1</td>\n",
       "      <td>0</td>\n",
       "      <td>0</td>\n",
       "      <td>0</td>\n",
       "      <td>1</td>\n",
       "      <td>0</td>\n",
       "      <td>1</td>\n",
       "      <td>0</td>\n",
       "      <td>1</td>\n",
       "      <td>0</td>\n",
       "      <td>1</td>\n",
       "      <td>0</td>\n",
       "      <td>1</td>\n",
       "      <td>0</td>\n",
       "    </tr>\n",
       "    <tr>\n",
       "      <td>1</td>\n",
       "      <td>40</td>\n",
       "      <td>30085.1</td>\n",
       "      <td>3</td>\n",
       "      <td>0</td>\n",
       "      <td>1</td>\n",
       "      <td>0</td>\n",
       "      <td>0</td>\n",
       "      <td>0</td>\n",
       "      <td>1</td>\n",
       "      <td>0</td>\n",
       "      <td>1</td>\n",
       "      <td>0</td>\n",
       "      <td>1</td>\n",
       "      <td>1</td>\n",
       "      <td>0</td>\n",
       "      <td>0</td>\n",
       "      <td>1</td>\n",
       "      <td>0</td>\n",
       "      <td>1</td>\n",
       "    </tr>\n",
       "    <tr>\n",
       "      <td>2</td>\n",
       "      <td>51</td>\n",
       "      <td>16575.4</td>\n",
       "      <td>0</td>\n",
       "      <td>1</td>\n",
       "      <td>0</td>\n",
       "      <td>1</td>\n",
       "      <td>0</td>\n",
       "      <td>0</td>\n",
       "      <td>0</td>\n",
       "      <td>0</td>\n",
       "      <td>1</td>\n",
       "      <td>0</td>\n",
       "      <td>1</td>\n",
       "      <td>0</td>\n",
       "      <td>1</td>\n",
       "      <td>0</td>\n",
       "      <td>1</td>\n",
       "      <td>1</td>\n",
       "      <td>0</td>\n",
       "    </tr>\n",
       "    <tr>\n",
       "      <td>3</td>\n",
       "      <td>23</td>\n",
       "      <td>20375.4</td>\n",
       "      <td>3</td>\n",
       "      <td>1</td>\n",
       "      <td>0</td>\n",
       "      <td>0</td>\n",
       "      <td>0</td>\n",
       "      <td>0</td>\n",
       "      <td>1</td>\n",
       "      <td>0</td>\n",
       "      <td>1</td>\n",
       "      <td>1</td>\n",
       "      <td>0</td>\n",
       "      <td>1</td>\n",
       "      <td>0</td>\n",
       "      <td>0</td>\n",
       "      <td>1</td>\n",
       "      <td>1</td>\n",
       "      <td>0</td>\n",
       "    </tr>\n",
       "    <tr>\n",
       "      <td>4</td>\n",
       "      <td>57</td>\n",
       "      <td>50576.3</td>\n",
       "      <td>0</td>\n",
       "      <td>1</td>\n",
       "      <td>0</td>\n",
       "      <td>0</td>\n",
       "      <td>1</td>\n",
       "      <td>0</td>\n",
       "      <td>0</td>\n",
       "      <td>0</td>\n",
       "      <td>1</td>\n",
       "      <td>1</td>\n",
       "      <td>0</td>\n",
       "      <td>0</td>\n",
       "      <td>1</td>\n",
       "      <td>1</td>\n",
       "      <td>0</td>\n",
       "      <td>1</td>\n",
       "      <td>0</td>\n",
       "    </tr>\n",
       "  </tbody>\n",
       "</table>\n",
       "</div>"
      ],
      "text/plain": [
       "   age   income  children  gender_FEMALE  gender_MALE  region_INNER_CITY  \\\n",
       "0   48  17546.0         1              1            0                  1   \n",
       "1   40  30085.1         3              0            1                  0   \n",
       "2   51  16575.4         0              1            0                  1   \n",
       "3   23  20375.4         3              1            0                  0   \n",
       "4   57  50576.3         0              1            0                  0   \n",
       "\n",
       "   region_RURAL  region_SUBURBAN  region_TOWN  married_NO  married_YES  \\\n",
       "0             0                0            0           1            0   \n",
       "1             0                0            1           0            1   \n",
       "2             0                0            0           0            1   \n",
       "3             0                0            1           0            1   \n",
       "4             1                0            0           0            1   \n",
       "\n",
       "   car_NO  car_YES  savings_acct_NO  savings_acct_YES  current_acct_NO  \\\n",
       "0       1        0                1                 0                1   \n",
       "1       0        1                1                 0                0   \n",
       "2       0        1                0                 1                0   \n",
       "3       1        0                1                 0                0   \n",
       "4       1        0                0                 1                1   \n",
       "\n",
       "   current_acct_YES  mortgage_NO  mortgage_YES  \n",
       "0                 0            1             0  \n",
       "1                 1            0             1  \n",
       "2                 1            1             0  \n",
       "3                 1            1             0  \n",
       "4                 0            1             0  "
      ]
     },
     "execution_count": 6,
     "metadata": {},
     "output_type": "execute_result"
    }
   ],
   "source": [
    "#Import data\n",
    "url = 'https://raw.githubusercontent.com/PixarJunkie/dsc-478-programming-ml-apps/master/data/bank-data/bank_data.csv'\n",
    "data = pd.read_csv(url)\n",
    "\n",
    "#Remove id colulmn\n",
    "data.drop(columns = 'id', axis = 1, inplace = True)\n",
    "\n",
    "#Remove pep as target variable\n",
    "y = data['pep']\n",
    "\n",
    "#Convert categorical columns to dummy variables\n",
    "data_trans = pd.get_dummies(data[['gender', 'region', 'married', 'car', 'savings_acct', 'current_acct', 'mortgage']])\n",
    "data_trans = pd.concat([data, data_trans], axis = 1)\n",
    "data_trans.drop(columns = ['gender', 'region', 'married', 'car', 'savings_acct', 'current_acct', 'mortgage', 'pep'], axis = 1, inplace = True)\n",
    "data_trans.head()"
   ]
  },
  {
   "cell_type": "code",
   "execution_count": 7,
   "metadata": {},
   "outputs": [
    {
     "name": "stdout",
     "output_type": "stream",
     "text": [
      "X_train shape: (480, 19)\n",
      "X_test shape: (120, 19)\n",
      "y_train shape: (480,)\n",
      "y_test shape: (120,)\n"
     ]
    }
   ],
   "source": [
    "#Train test split\n",
    "X_train, X_test, y_train, y_test = train_test_split(data_trans, y, test_size = 0.20, random_state = 23)\n",
    "print('X_train shape: ' + str(X_train.shape))\n",
    "print('X_test shape: ' + str(X_test.shape))\n",
    "print('y_train shape: ' + str(y_train.shape))\n",
    "print('y_test shape: ' + str(y_test.shape))"
   ]
  },
  {
   "cell_type": "markdown",
   "metadata": {},
   "source": [
    "___"
   ]
  },
  {
   "cell_type": "markdown",
   "metadata": {},
   "source": [
    "### Problem 2b \n",
    "Run scikit-learn's KNN classifier on the test set. Note: in the case of KNN, you should first normalize\n",
    "the data so that all attributes are in the same scale (normalize so that the values are between 0 and 1).\n",
    "Generate the confusion matrix (visualize it using Matplotlib), as well as the classification report. Also,\n",
    "compute the average accuracy score. Experiment with different values of K and the weight parameter\n",
    "(i.e., with or without distance weighting) for KNN to see if you can improve accuracy (you do not need to\n",
    "provide the details of all of your experimentation, but provide a short discussion on what parameters\n",
    "worked best as well as your final results)."
   ]
  },
  {
   "cell_type": "code",
   "execution_count": 8,
   "metadata": {},
   "outputs": [
    {
     "name": "stdout",
     "output_type": "stream",
     "text": [
      "X_train shape: (480, 19)\n",
      "X_test shape: (120, 19)\n",
      "y_train shape: (480,)\n",
      "y_test shape: (120,)\n"
     ]
    }
   ],
   "source": [
    "#Create copy of data_trans\n",
    "data_knn = data_trans\n",
    "\n",
    "#Create numpy array for age, income, and children\n",
    "data_norm_vals = data_trans[['age', 'income', 'children']].values\n",
    "\n",
    "#Create min max scalar\n",
    "min_max = preprocessing.MinMaxScaler()\n",
    "\n",
    "#Fit scalar to numpy array\n",
    "norm_vals = min_max.fit_transform(data_norm_vals)\n",
    "\n",
    "#Create dataframe of normalized values\n",
    "norm_df = pd.DataFrame(norm_vals, columns = ['age', 'income', 'children'])\n",
    "\n",
    "#Replace age, income, and children in original dataframe\n",
    "data_knn.age = norm_df.age\n",
    "data_knn.income = norm_df.income\n",
    "data_knn.children = norm_df.children\n",
    "data_knn.head()\n",
    "\n",
    "#Train test split with normalized columns\n",
    "#Train test split\n",
    "X_train, X_test, y_train, y_test = train_test_split(data_knn, y, test_size = 0.20, random_state = 23)\n",
    "print('X_train shape: ' + str(X_train.shape))\n",
    "print('X_test shape: ' + str(X_test.shape))\n",
    "print('y_train shape: ' + str(y_train.shape))\n",
    "print('y_test shape: ' + str(y_test.shape))"
   ]
  },
  {
   "cell_type": "code",
   "execution_count": 9,
   "metadata": {},
   "outputs": [
    {
     "name": "stdout",
     "output_type": "stream",
     "text": [
      "{'n_neighbors': 8, 'weights': 'uniform'}\n"
     ]
    }
   ],
   "source": [
    "#KNN model and param grid\n",
    "k_vals = list(range(1, 10))\n",
    "knn = KNeighborsClassifier()\n",
    "params = {'n_neighbors': k_vals, 'weights': ['uniform', 'distance']}\n",
    "\n",
    "#KNN with gridsearch\n",
    "knn_model = GridSearchCV(knn, param_grid = params, scoring = 'accuracy')\n",
    "\n",
    "#Fit model to training set\n",
    "knn_model.fit(X_train, y_train)\n",
    "\n",
    "#Predict off test set\n",
    "knn_pred = knn_model.predict(X_test)\n",
    "\n",
    "#Best params\n",
    "print(knn_model.best_params_)"
   ]
  },
  {
   "cell_type": "code",
   "execution_count": 10,
   "metadata": {},
   "outputs": [
    {
     "data": {
      "image/png": "[encoded data removed]",
      "text/plain": [
       "<Figure size 432x288 with 1 Axes>"
      ]
     },
     "metadata": {
      "needs_background": "light"
     },
     "output_type": "display_data"
    }
   ],
   "source": [
    "#Confusion matrix\n",
    "cm = metrics.confusion_matrix(y_test, knn_pred)\n",
    "\n",
    "plt.clf()\n",
    "\n",
    "plt.imshow(cm, interpolation ='nearest', cmap = plt.cm.Wistia)\n",
    "\n",
    "classNames = ['Negative','Positive']\n",
    "\n",
    "ax = plt.gca()\n",
    "ax.tick_params(axis = 'x', colors = 'black')\n",
    "ax.tick_params(axis = 'y', colors = 'black')\n",
    "plt.title('Confusion Matrix', color = 'black')\n",
    "tick_marks = np.arange(len(classNames))\n",
    "plt.xticks(tick_marks, classNames, rotation = 90)\n",
    "plt.yticks(tick_marks, classNames)\n",
    "s = [['TN','FP'], ['FN', 'TP']]\n",
    "\n",
    "for x in range(2):\n",
    "    for y in range(2):\n",
    "        plt.text(y - 0.25, x, str(s[x][y]) + \" = \" + str(cm[x][y]))"
   ]
  },
  {
   "cell_type": "code",
   "execution_count": 11,
   "metadata": {},
   "outputs": [
    {
     "name": "stdout",
     "output_type": "stream",
     "text": [
      "              precision    recall  f1-score   support\n",
      "\n",
      "          NO       0.63      0.87      0.73        62\n",
      "         YES       0.76      0.45      0.57        58\n",
      "\n",
      "    accuracy                           0.67       120\n",
      "   macro avg       0.70      0.66      0.65       120\n",
      "weighted avg       0.69      0.67      0.65       120\n",
      "\n",
      "Accuracy = 0.6666666666666666\n"
     ]
    }
   ],
   "source": [
    "#Metrics\n",
    "print(metrics.classification_report(y_test, knn_pred))\n",
    "#Accuracy\n",
    "print('Accuracy = ' + str(metrics.accuracy_score(y_test, knn_pred)))"
   ]
  },
  {
   "cell_type": "markdown",
   "metadata": {},
   "source": [
    "___"
   ]
  },
  {
   "cell_type": "markdown",
   "metadata": {},
   "source": [
    "#### Discussion \n",
    "I used the GridsearchCV module to test a range of k-values as well as both uniform and distance weights. Between those 2 parameters, the setup that performed best was k = 8 with a uniform weight. These parameters show an accuracy of ~67% with a 63% precision on the NO class and 76% on the YES class"
   ]
  },
  {
   "cell_type": "markdown",
   "metadata": {},
   "source": [
    "___"
   ]
  },
  {
   "cell_type": "markdown",
   "metadata": {},
   "source": [
    "### Problem 2c \n",
    "Repeat the classification using scikit-learn's decision tree classifier (using the default parameters) and\n",
    "the Naive Bayes (Gaussian) classifier. As above, generate the confusion matrix, classification report, and\n",
    "average accuracy scores for each classifier. For each model, compare the average accuracry scores on\n",
    "the test and the training data sets. What does the comparison tell you in terms of bias-variance tradeoff?"
   ]
  },
  {
   "cell_type": "markdown",
   "metadata": {},
   "source": [
    "___"
   ]
  },
  {
   "cell_type": "markdown",
   "metadata": {},
   "source": [
    "#### Decision Tree"
   ]
  },
  {
   "cell_type": "code",
   "execution_count": 12,
   "metadata": {},
   "outputs": [
    {
     "name": "stdout",
     "output_type": "stream",
     "text": [
      "{'criterion': 'entropy', 'min_samples_split': 2, 'random_state': 23, 'splitter': 'best'}\n"
     ]
    }
   ],
   "source": [
    "#Random forest model and param grid\n",
    "dt = DecisionTreeClassifier()\n",
    "params = {'splitter': ['best', 'random'], 'min_samples_split': [2, 4, 6], 'random_state': [23], 'criterion': ['gini', 'entropy']}\n",
    "\n",
    "#KNN with gridsearch\n",
    "dt_model = GridSearchCV(dt, param_grid = params, scoring = 'accuracy')\n",
    "\n",
    "#Fit model to training set\n",
    "dt_model.fit(X_train, y_train)\n",
    "\n",
    "#Predict off test set\n",
    "dt_pred = dt_model.predict(X_test)\n",
    "\n",
    "#Best params\n",
    "print(dt_model.best_params_)"
   ]
  },
  {
   "cell_type": "code",
   "execution_count": 13,
   "metadata": {},
   "outputs": [
    {
     "data": {
      "image/png": "[encoded data removed]",
      "text/plain": [
       "<Figure size 432x288 with 1 Axes>"
      ]
     },
     "metadata": {
      "needs_background": "light"
     },
     "output_type": "display_data"
    }
   ],
   "source": [
    "#Confusion matrix\n",
    "cm = metrics.confusion_matrix(y_test, dt_pred)\n",
    "\n",
    "plt.clf()\n",
    "\n",
    "plt.imshow(cm, interpolation ='nearest', cmap = plt.cm.Wistia)\n",
    "\n",
    "classNames = ['Negative','Positive']\n",
    "\n",
    "ax = plt.gca()\n",
    "ax.tick_params(axis = 'x', colors = 'black')\n",
    "ax.tick_params(axis = 'y', colors = 'black')\n",
    "plt.title('Confusion Matrix', color = 'black')\n",
    "tick_marks = np.arange(len(classNames))\n",
    "plt.xticks(tick_marks, classNames, rotation = 90)\n",
    "plt.yticks(tick_marks, classNames)\n",
    "s = [['TN','FP'], ['FN', 'TP']]\n",
    "\n",
    "for x in range(2):\n",
    "    for y in range(2):\n",
    "        plt.text(y - 0.25, x, str(s[x][y]) + \" = \" + str(cm[x][y]))"
   ]
  },
  {
   "cell_type": "code",
   "execution_count": 14,
   "metadata": {},
   "outputs": [
    {
     "name": "stdout",
     "output_type": "stream",
     "text": [
      "              precision    recall  f1-score   support\n",
      "\n",
      "          NO       0.84      0.85      0.85        62\n",
      "         YES       0.84      0.83      0.83        58\n",
      "\n",
      "    accuracy                           0.84       120\n",
      "   macro avg       0.84      0.84      0.84       120\n",
      "weighted avg       0.84      0.84      0.84       120\n",
      "\n",
      "Training Accuracy = 1.0\n",
      "Test Accuracy = 0.8416666666666667\n"
     ]
    }
   ],
   "source": [
    "#Metrics\n",
    "print(metrics.classification_report(y_test, dt_pred))\n",
    "#Accuracy\n",
    "print('Training Accuracy = ' + str(metrics.accuracy_score(y_train, dt_model.predict(X_train))))\n",
    "print('Test Accuracy = ' + str(metrics.accuracy_score(y_test, dt_pred)))"
   ]
  },
  {
   "cell_type": "markdown",
   "metadata": {},
   "source": [
    "___"
   ]
  },
  {
   "cell_type": "markdown",
   "metadata": {},
   "source": [
    "#### Naive-Bayes"
   ]
  },
  {
   "cell_type": "code",
   "execution_count": 15,
   "metadata": {},
   "outputs": [],
   "source": [
    "#Gausian naive-bayes model and param grid\n",
    "nb = GaussianNB()\n",
    "# params = {'n_estimators': [10, 20, 30, 40, 50], 'min_samples_split': [2, 4, 6]}\n",
    "\n",
    "#Fit model to training set\n",
    "nb.fit(X_train, y_train)\n",
    "\n",
    "#Predict off test set\n",
    "y_pred = nb.predict(X_test)"
   ]
  },
  {
   "cell_type": "code",
   "execution_count": 16,
   "metadata": {},
   "outputs": [
    {
     "data": {
      "image/png": "[encoded data removed]",
      "text/plain": [
       "<Figure size 432x288 with 1 Axes>"
      ]
     },
     "metadata": {
      "needs_background": "light"
     },
     "output_type": "display_data"
    }
   ],
   "source": [
    "#Confusion matrix\n",
    "cm = metrics.confusion_matrix(y_test, y_pred)\n",
    "\n",
    "plt.clf()\n",
    "\n",
    "plt.imshow(cm, interpolation ='nearest', cmap = plt.cm.Wistia)\n",
    "\n",
    "classNames = ['Negative','Positive']\n",
    "\n",
    "ax = plt.gca()\n",
    "ax.tick_params(axis = 'x', colors = 'black')\n",
    "ax.tick_params(axis = 'y', colors = 'black')\n",
    "plt.title('Confusion Matrix', color = 'black')\n",
    "tick_marks = np.arange(len(classNames))\n",
    "plt.xticks(tick_marks, classNames, rotation = 90)\n",
    "plt.yticks(tick_marks, classNames)\n",
    "s = [['TN','FP'], ['FN', 'TP']]\n",
    "\n",
    "for x in range(2):\n",
    "    for y in range(2):\n",
    "        plt.text(y - 0.25, x, str(s[x][y]) + \" = \" + str(cm[x][y]))"
   ]
  },
  {
   "cell_type": "code",
   "execution_count": 17,
   "metadata": {},
   "outputs": [
    {
     "name": "stdout",
     "output_type": "stream",
     "text": [
      "              precision    recall  f1-score   support\n",
      "\n",
      "          NO       0.62      0.65      0.63        62\n",
      "         YES       0.61      0.59      0.60        58\n",
      "\n",
      "    accuracy                           0.62       120\n",
      "   macro avg       0.62      0.62      0.62       120\n",
      "weighted avg       0.62      0.62      0.62       120\n",
      "\n",
      "Training Accuracy = 0.6708333333333333\n",
      "Test Accuracy = 0.6166666666666667\n"
     ]
    }
   ],
   "source": [
    "#Metrics\n",
    "print(metrics.classification_report(y_test, y_pred))\n",
    "#Accuracy\n",
    "print('Training Accuracy = ' + str(metrics.accuracy_score(y_train, nb.predict(X_train))))\n",
    "print('Test Accuracy = ' + str(metrics.accuracy_score(y_test, y_pred)))"
   ]
  },
  {
   "cell_type": "markdown",
   "metadata": {},
   "source": [
    "___"
   ]
  },
  {
   "cell_type": "markdown",
   "metadata": {},
   "source": [
    "### Problem 2D \n",
    "Discuss your observations based on the above experiments."
   ]
  },
  {
   "cell_type": "markdown",
   "metadata": {},
   "source": [
    "Based on the experiments from part C, the Decision Tree Classifier performed the best with 40 estimators and a minimum of 6 samples before each split. The precision score for both classes in the dt model are quite a lot higher than both the gausiannNB and KNN models."
   ]
  },
  {
   "cell_type": "markdown",
   "metadata": {},
   "source": [
    "___"
   ]
  },
  {
   "cell_type": "markdown",
   "metadata": {},
   "source": [
    "# Problem 3 \n",
    "Data Analysis and Predictive Modeling on Census data Dataset: adult-modified.csv\n",
    "For this problem you will use a simplified version of the Adult Census Data Set. In the subset provided here, some\n",
    "of the attributes have been removed and some preprocessing has been performed."
   ]
  },
  {
   "cell_type": "markdown",
   "metadata": {},
   "source": [
    "___"
   ]
  },
  {
   "cell_type": "markdown",
   "metadata": {},
   "source": [
    "### Problem 3a \n",
    "Preprocessing and data analysis: \n",
    "\n",
    "•Examine the data for missing values. In case of categorical attributes, remove instances with missing\n",
    "values. In the case of numeric attributes, impute and fill-in the missing values using the attribute mean. \n",
    "\n",
    "•Examine the characteristics of the attributes, including relevant statistics for each attribute, histograms\n",
    "illustrating the distribtions of numeric attributes, bar graphs showing value counts for categorical\n",
    "attributes, etc. \n",
    "\n",
    "•Perform the following cross-tabulations (including generating bar charts): education+race, workclass+income, work-class+race, and race+income. In the latter case (race+income) also create a table\n",
    "or chart showing percentages of each race category that fall in the low-income group. Discuss your\n",
    "observations from this analysis. \n",
    "\n",
    "•Compare and contrast the characteristics of the low-income and high-income categories across the\n",
    "different attributes."
   ]
  },
  {
   "cell_type": "code",
   "execution_count": 18,
   "metadata": {},
   "outputs": [
    {
     "data": {
      "text/html": [
       "<div>\n",
       "<style scoped>\n",
       "    .dataframe tbody tr th:only-of-type {\n",
       "        vertical-align: middle;\n",
       "    }\n",
       "\n",
       "    .dataframe tbody tr th {\n",
       "        vertical-align: top;\n",
       "    }\n",
       "\n",
       "    .dataframe thead th {\n",
       "        text-align: right;\n",
       "    }\n",
       "</style>\n",
       "<table border=\"1\" class=\"dataframe\">\n",
       "  <thead>\n",
       "    <tr style=\"text-align: right;\">\n",
       "      <th></th>\n",
       "      <th>age</th>\n",
       "      <th>workclass</th>\n",
       "      <th>education</th>\n",
       "      <th>marital-status</th>\n",
       "      <th>race</th>\n",
       "      <th>sex</th>\n",
       "      <th>hours-per-week</th>\n",
       "      <th>income</th>\n",
       "    </tr>\n",
       "  </thead>\n",
       "  <tbody>\n",
       "    <tr>\n",
       "      <td>0</td>\n",
       "      <td>39</td>\n",
       "      <td>Public</td>\n",
       "      <td>13</td>\n",
       "      <td>Single</td>\n",
       "      <td>White</td>\n",
       "      <td>Male</td>\n",
       "      <td>40</td>\n",
       "      <td>&lt;=50K</td>\n",
       "    </tr>\n",
       "    <tr>\n",
       "      <td>1</td>\n",
       "      <td>50</td>\n",
       "      <td>Self-emp</td>\n",
       "      <td>13</td>\n",
       "      <td>Married</td>\n",
       "      <td>White</td>\n",
       "      <td>Male</td>\n",
       "      <td>13</td>\n",
       "      <td>&lt;=50K</td>\n",
       "    </tr>\n",
       "    <tr>\n",
       "      <td>2</td>\n",
       "      <td>38</td>\n",
       "      <td>Private</td>\n",
       "      <td>9</td>\n",
       "      <td>Single</td>\n",
       "      <td>White</td>\n",
       "      <td>Male</td>\n",
       "      <td>40</td>\n",
       "      <td>&lt;=50K</td>\n",
       "    </tr>\n",
       "    <tr>\n",
       "      <td>3</td>\n",
       "      <td>53</td>\n",
       "      <td>Private</td>\n",
       "      <td>7</td>\n",
       "      <td>Married</td>\n",
       "      <td>Black</td>\n",
       "      <td>Male</td>\n",
       "      <td>40</td>\n",
       "      <td>&lt;=50K</td>\n",
       "    </tr>\n",
       "    <tr>\n",
       "      <td>4</td>\n",
       "      <td>28</td>\n",
       "      <td>Private</td>\n",
       "      <td>13</td>\n",
       "      <td>Married</td>\n",
       "      <td>Black</td>\n",
       "      <td>Female</td>\n",
       "      <td>40</td>\n",
       "      <td>&lt;=50K</td>\n",
       "    </tr>\n",
       "  </tbody>\n",
       "</table>\n",
       "</div>"
      ],
      "text/plain": [
       "  age workclass  education marital-status   race     sex  hours-per-week  \\\n",
       "0  39    Public         13         Single  White    Male              40   \n",
       "1  50  Self-emp         13        Married  White    Male              13   \n",
       "2  38   Private          9         Single  White    Male              40   \n",
       "3  53   Private          7        Married  Black    Male              40   \n",
       "4  28   Private         13        Married  Black  Female              40   \n",
       "\n",
       "  income  \n",
       "0  <=50K  \n",
       "1  <=50K  \n",
       "2  <=50K  \n",
       "3  <=50K  \n",
       "4  <=50K  "
      ]
     },
     "execution_count": 18,
     "metadata": {},
     "output_type": "execute_result"
    }
   ],
   "source": [
    "#Import data\n",
    "url = 'https://raw.githubusercontent.com/PixarJunkie/dsc-478-programming-ml-apps/master/data/adult-data/adult-modified.csv'\n",
    "data = pd.read_csv(url)\n",
    "data.head()"
   ]
  },
  {
   "cell_type": "code",
   "execution_count": 19,
   "metadata": {},
   "outputs": [
    {
     "data": {
      "text/plain": [
       "(10000, 8)"
      ]
     },
     "execution_count": 19,
     "metadata": {},
     "output_type": "execute_result"
    }
   ],
   "source": [
    "#Shape\n",
    "data.shape"
   ]
  },
  {
   "cell_type": "code",
   "execution_count": 20,
   "metadata": {},
   "outputs": [
    {
     "name": "stdout",
     "output_type": "stream",
     "text": [
      "workclassvalue counts\n",
      "Private     6947\n",
      "Public      1317\n",
      "Self-emp    1148\n",
      "?            588\n",
      "Name: workclass, dtype: int64\n",
      "marital-statusvalue counts\n",
      "Single     5017\n",
      "Married    4983\n",
      "Name: marital-status, dtype: int64\n",
      "racevalue counts\n",
      "White          8556\n",
      "Black           953\n",
      "Asian           309\n",
      "Amer-Indian      99\n",
      "Hispanic         83\n",
      "Name: race, dtype: int64\n",
      "sexvalue counts\n",
      "Male      6703\n",
      "Female    3297\n",
      "Name: sex, dtype: int64\n"
     ]
    }
   ],
   "source": [
    "#Check categorical columns for nulls\n",
    "cat_cols = ['workclass', 'marital-status', 'race', 'sex']\n",
    "for col in cat_cols:\n",
    "    print(col + 'value counts')\n",
    "    print(data['%s' %(col)].value_counts())"
   ]
  },
  {
   "cell_type": "code",
   "execution_count": 21,
   "metadata": {},
   "outputs": [
    {
     "data": {
      "text/plain": [
       "age               189\n",
       "workclass           0\n",
       "education           0\n",
       "marital-status      0\n",
       "race                0\n",
       "sex                 0\n",
       "hours-per-week      0\n",
       "income              0\n",
       "dtype: int64"
      ]
     },
     "execution_count": 21,
     "metadata": {},
     "output_type": "execute_result"
    }
   ],
   "source": [
    "#Drop ? from workclass\n",
    "data = data[data.workclass != '?']\n",
    "#Check if any more columns contain ?\n",
    "np.sum(data == '?')"
   ]
  },
  {
   "cell_type": "code",
   "execution_count": 22,
   "metadata": {},
   "outputs": [],
   "source": [
    "#Convert ? to null\n",
    "data.age.replace({'?': 0}, inplace = True)\n",
    "#Convert age to in\n",
    "data.age = data.age.astype(int)\n",
    "#Replace 0 with mean\n",
    "data.age.replace({0: round(np.mean([x for x in data.age if x > 0]), 1)}, inplace = True)"
   ]
  },
  {
   "cell_type": "code",
   "execution_count": 23,
   "metadata": {},
   "outputs": [
    {
     "data": {
      "image/png": "[encoded data removed]",
      "text/plain": [
       "<Figure size 1296x576 with 1 Axes>"
      ]
     },
     "metadata": {
      "needs_background": "light"
     },
     "output_type": "display_data"
    },
    {
     "data": {
      "image/png": "[encoded data removed]",
      "text/plain": [
       "<Figure size 1296x576 with 1 Axes>"
      ]
     },
     "metadata": {
      "needs_background": "light"
     },
     "output_type": "display_data"
    },
    {
     "data": {
      "image/png": "[encoded data removed]",
      "text/plain": [
       "<Figure size 1296x576 with 1 Axes>"
      ]
     },
     "metadata": {
      "needs_background": "light"
     },
     "output_type": "display_data"
    },
    {
     "data": {
      "image/png": "[encoded data removed]",
      "text/plain": [
       "<Figure size 1296x576 with 1 Axes>"
      ]
     },
     "metadata": {
      "needs_background": "light"
     },
     "output_type": "display_data"
    },
    {
     "data": {
      "image/png": "[encoded data removed]",
      "text/plain": [
       "<Figure size 1296x576 with 1 Axes>"
      ]
     },
     "metadata": {
      "needs_background": "light"
     },
     "output_type": "display_data"
    },
    {
     "data": {
      "image/png": "[encoded data removed]",
      "text/plain": [
       "<Figure size 1296x576 with 1 Axes>"
      ]
     },
     "metadata": {
      "needs_background": "light"
     },
     "output_type": "display_data"
    },
    {
     "data": {
      "image/png": "[encoded data removed]",
      "text/plain": [
       "<Figure size 1296x576 with 1 Axes>"
      ]
     },
     "metadata": {
      "needs_background": "light"
     },
     "output_type": "display_data"
    },
    {
     "data": {
      "image/png": "[encoded data removed]",
      "text/plain": [
       "<Figure size 1296x576 with 1 Axes>"
      ]
     },
     "metadata": {
      "needs_background": "light"
     },
     "output_type": "display_data"
    }
   ],
   "source": [
    "#For each column (except id), plot histogram\n",
    "cat_df = data[['workclass', 'marital-status', 'race', 'sex']]\n",
    "for item, col in enumerate(data.columns): \n",
    "    data[col].value_counts().plot(kind = 'bar')\n",
    "    plt.title('%s' %(col))\n",
    "    fig = plt.gcf()\n",
    "    fig.set_size_inches(18, 8)\n",
    "    plt.show()"
   ]
  },
  {
   "cell_type": "code",
   "execution_count": 24,
   "metadata": {},
   "outputs": [
    {
     "data": {
      "image/png": "[encoded data removed]",
      "text/plain": [
       "<Figure size 1296x576 with 1 Axes>"
      ]
     },
     "metadata": {
      "needs_background": "light"
     },
     "output_type": "display_data"
    }
   ],
   "source": [
    "#Education vs. Race\n",
    "pd.crosstab(data.race, data.education).plot.bar()\n",
    "fig = plt.gcf()\n",
    "fig.set_size_inches(18, 8)\n",
    "plt.show()"
   ]
  },
  {
   "cell_type": "code",
   "execution_count": 25,
   "metadata": {},
   "outputs": [
    {
     "data": {
      "image/png": "[encoded data removed]",
      "text/plain": [
       "<Figure size 1296x576 with 1 Axes>"
      ]
     },
     "metadata": {
      "needs_background": "light"
     },
     "output_type": "display_data"
    }
   ],
   "source": [
    "#Workclass vs income\n",
    "pd.crosstab(data.workclass, data.income).plot.bar()\n",
    "fig = plt.gcf()\n",
    "fig.set_size_inches(18, 8)\n",
    "plt.show()"
   ]
  },
  {
   "cell_type": "code",
   "execution_count": 26,
   "metadata": {},
   "outputs": [
    {
     "data": {
      "image/png": "[encoded data removed]",
      "text/plain": [
       "<Figure size 1296x576 with 1 Axes>"
      ]
     },
     "metadata": {
      "needs_background": "light"
     },
     "output_type": "display_data"
    }
   ],
   "source": [
    "#Workclass vs Race\n",
    "pd.crosstab(data.workclass, data.race).plot.bar()\n",
    "fig = plt.gcf()\n",
    "fig.set_size_inches(18, 8)\n",
    "plt.show()"
   ]
  },
  {
   "cell_type": "code",
   "execution_count": 27,
   "metadata": {},
   "outputs": [
    {
     "data": {
      "image/png": "[encoded data removed]",
      "text/plain": [
       "<Figure size 1296x576 with 1 Axes>"
      ]
     },
     "metadata": {
      "needs_background": "light"
     },
     "output_type": "display_data"
    }
   ],
   "source": [
    "#Workclass vs Race\n",
    "pd.crosstab(data.income, data.race).plot.bar()\n",
    "fig = plt.gcf()\n",
    "fig.set_size_inches(18, 8)\n",
    "plt.show()"
   ]
  },
  {
   "cell_type": "markdown",
   "metadata": {},
   "source": [
    "### Discussion \n",
    "A few things that I noticed from looking at these charts:\n",
    "- The most years of education are from the White ethnic group while the least is from the Hispanic group\n",
    "- The majority of all workers are in the private sector\n",
    "- Of those working in the private sector, the majority make > 50K (The majority across all working classes > 50K)\n",
    "- The working force is predominately White, with African American being the next largest group"
   ]
  },
  {
   "cell_type": "markdown",
   "metadata": {},
   "source": [
    "___"
   ]
  },
  {
   "cell_type": "markdown",
   "metadata": {},
   "source": [
    "### Problem 3b \n",
    "Predictive Modeling and Model Evaluation: \n",
    "\n",
    "•Using either Pandas or Scikit-learn, create dummy variables for the categorical attributes. Then\n",
    "separate the target attribute (\"income_>50K\") from the attributes used for training. Note: you need to\n",
    "drop \"income_<=50K\" which is also created as a dummy variable in earlier steps). \n",
    "\n",
    "•Use scikit-learn to build classifiers uisng Naive Bayes (Gaussian), decision tree (using \"entropy\" as\n",
    "selection criteria), and linear discriminant analysis (LDA). For each of these perform 10-fold crossvalidation (using cross-validation module in scikit-learn) and report the overall average accuracy. \n",
    "\n",
    "•For the decision tree model (generated on the full training data), generate a visualization of tree and\n",
    "submit it as a separate file (png, jpg, or pdf) or embed it in the Jupyter Notebook."
   ]
  },
  {
   "cell_type": "code",
   "execution_count": 28,
   "metadata": {},
   "outputs": [],
   "source": [
    "#Create dummies\n",
    "data_dummies = pd.get_dummies(data[['workclass', 'marital-status', 'race', 'sex', 'income']])\n",
    "data_combined = pd.concat([data, data_dummies], axis = 1)\n",
    "#Create y variable\n",
    "y = data_combined['income_>50K']\n",
    "#Drop old columns\n",
    "data_combined.drop(['workclass', 'race', 'sex', 'marital-status', 'income', 'income_<=50K', 'income_>50K'], axis = 1, inplace = True)"
   ]
  },
  {
   "cell_type": "code",
   "execution_count": 29,
   "metadata": {},
   "outputs": [],
   "source": [
    "#Train test split\n",
    "X_train, X_test, y_train, y_test = train_test_split(data_combined, y, test_size = 0.30, random_state = 23)"
   ]
  },
  {
   "cell_type": "code",
   "execution_count": 32,
   "metadata": {},
   "outputs": [
    {
     "name": "stdout",
     "output_type": "stream",
     "text": [
      "Overall average accuracy:  + 0.713104909275122 (+/- 0.02575478094102494)\n"
     ]
    }
   ],
   "source": [
    "#Classifiers \n",
    "nb = GaussianNB()\n",
    "nb_model = nb.fit(X_train, y_train)\n",
    "dt = DecisionTreeClassifier(criterion = 'entropy')\n",
    "dt_model = dt.fit(X_train, y_train)\n",
    "lda = LinearDiscriminantAnalysis()\n",
    "lda_model = lda.fit(X_train, y_train)\n",
    "\n",
    "#CV\n",
    "nb_cv = cross_val_score(nb_model, X_train, y_train, cv = 10)\n",
    "dt_cv = cross_val_score(dt_model, X_train, y_train, cv = 10)\n",
    "lda_cv = cross_val_score(lda_model, X_train, y_train, cv = 10) \n",
    "\n",
    "#Overall average accuracy\n",
    "overall_avg_acc = np.mean([nb_cv.mean(), dt_cv.mean(), lda_cv.mean()])\n",
    "print('Overall average accuracy:  + {} (+/- {})'.format(nb_cv.mean(), nb_cv.std()*2))"
   ]
  },
  {
   "cell_type": "code",
   "execution_count": 37,
   "metadata": {},
   "outputs": [],
   "source": [
    "#Decision tree viz\n",
    "export_graphviz(dt_model, out_file = 'tree.dot', feature_names = X_train.columns)\n",
    "\n",
    "#Convert tree.dot to tree.png\n",
    "(graph, ) = pydot.graph_from_dot_file('tree.dot')\n",
    "graph.write_png('tree.png')"
   ]
  }
 ],
 "metadata": {
  "kernelspec": {
   "display_name": "Python 3",
   "language": "python",
   "name": "python3"
  },
  "language_info": {
   "codemirror_mode": {
    "name": "ipython",
    "version": 3
   },
   "file_extension": ".py",
   "mimetype": "text/x-python",
   "name": "python",
   "nbconvert_exporter": "python",
   "pygments_lexer": "ipython3",
   "version": "3.7.4"
  }
 },
 "nbformat": 4,
 "nbformat_minor": 4
}
