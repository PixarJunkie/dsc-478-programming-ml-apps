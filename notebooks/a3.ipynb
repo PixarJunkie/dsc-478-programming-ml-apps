{
 "cells": [
  {
   "cell_type": "markdown",
   "metadata": {},
   "source": [
    "____"
   ]
  },
  {
   "cell_type": "markdown",
   "metadata": {},
   "source": [
    "# Homework 3"
   ]
  },
  {
   "cell_type": "markdown",
   "metadata": {},
   "source": [
    "___"
   ]
  },
  {
   "cell_type": "markdown",
   "metadata": {},
   "source": [
    "#### Package Imports"
   ]
  },
  {
   "cell_type": "code",
   "execution_count": 111,
   "metadata": {},
   "outputs": [],
   "source": [
    "import pandas as pd \n",
    "import numpy as np\n",
    "from sklearn.model_selection import train_test_split, cross_val_score, cross_val_predict\n",
    "from sklearn.preprocessing import StandardScaler\n",
    "from sklearn.linear_model import LinearRegression, Ridge, Lasso, SGDRegressor\n",
    "from sklearn.metrics import mean_squared_error, precision_score, accuracy_score, homogeneity_completeness_v_measure, homogeneity_score\n",
    "from sklearn.cross_validation import KFold\n",
    "from sklearn.neighbors import KNeighborsClassifier\n",
    "from sklearn.cluster import KMeans\n",
    "from sklearn.grid_search import GridSearchCV\n",
    "from sklearn import feature_selection\n",
    "import matplotlib.pyplot as plt\n",
    "import warnings\n",
    "\n",
    "warnings.filterwarnings('ignore')\n",
    "%matplotlib inline"
   ]
  },
  {
   "cell_type": "markdown",
   "metadata": {},
   "source": [
    "____"
   ]
  },
  {
   "cell_type": "markdown",
   "metadata": {},
   "source": [
    "## Problem 1 \n",
    "For this problem you will experiment with linear regression models to make predictions with numerical data. You will\n",
    "also explore more systematic methods for feature selection and for optimizing model parameters (model selection).\n",
    "The data set you will use is a subset of the \"Communities and Crime\" data set that combines information from the\n",
    "1990 census data as well as FBI crime data from 1995. Please read the full description of the data, including the\n",
    "description and statistics on different variables. The target attribute for regression purposes is\n",
    "\"ViolentCrimesPerPop\". The two identifier attributes \"state\" and \"community name\" should be excluded for the\n",
    "regression task."
   ]
  },
  {
   "cell_type": "code",
   "execution_count": 2,
   "metadata": {},
   "outputs": [],
   "source": [
    "#Import data\n",
    "url = r'https://raw.githubusercontent.com/PixarJunkie/dsc478-programming-ml-applications/master/data/communities-data/communities.csv'\n",
    "df = pd.read_csv(url)"
   ]
  },
  {
   "cell_type": "markdown",
   "metadata": {},
   "source": [
    "### Problem 1a \n",
    "Load and preprocess the data using Pandas or Numpy and, if necessary, preprocessing functions from\n",
    "scikit-learn. The provided data is already normalized (see description), so there is no need for\n",
    "additional normalization. Compute and display basic statistics (mean, standard deviation, min, max, etc.)\n",
    "for each of the variables in the data set. Separate the target attribute for regression."
   ]
  },
  {
   "cell_type": "code",
   "execution_count": 3,
   "metadata": {},
   "outputs": [],
   "source": [
    "#Remove ?\n",
    "df = df[df.OtherPerCap != '?']\n",
    "#Seperate target variable and drop state/communityname\n",
    "target = df.ViolentCrimesPerPop\n",
    "df.drop(columns = ['ViolentCrimesPerPop', 'state', 'communityname'], axis = 1, inplace = True)"
   ]
  },
  {
   "cell_type": "code",
   "execution_count": 4,
   "metadata": {},
   "outputs": [
    {
     "data": {
      "text/html": [
       "<div>\n",
       "<style scoped>\n",
       "    .dataframe tbody tr th:only-of-type {\n",
       "        vertical-align: middle;\n",
       "    }\n",
       "\n",
       "    .dataframe tbody tr th {\n",
       "        vertical-align: top;\n",
       "    }\n",
       "\n",
       "    .dataframe thead th {\n",
       "        text-align: right;\n",
       "    }\n",
       "</style>\n",
       "<table border=\"1\" class=\"dataframe\">\n",
       "  <thead>\n",
       "    <tr style=\"text-align: right;\">\n",
       "      <th></th>\n",
       "      <th>population</th>\n",
       "      <th>householdsize</th>\n",
       "      <th>racepctblack</th>\n",
       "      <th>racePctWhite</th>\n",
       "      <th>racePctAsian</th>\n",
       "      <th>racePctHisp</th>\n",
       "      <th>agePct12t21</th>\n",
       "      <th>agePct12t29</th>\n",
       "      <th>agePct16t24</th>\n",
       "      <th>agePct65up</th>\n",
       "      <th>...</th>\n",
       "      <th>NumInShelters</th>\n",
       "      <th>NumStreet</th>\n",
       "      <th>PctForeignBorn</th>\n",
       "      <th>PctBornSameState</th>\n",
       "      <th>PctSameHouse85</th>\n",
       "      <th>PctSameCity85</th>\n",
       "      <th>PctSameState85</th>\n",
       "      <th>LandArea</th>\n",
       "      <th>PopDens</th>\n",
       "      <th>PctUsePubTrans</th>\n",
       "    </tr>\n",
       "  </thead>\n",
       "  <tbody>\n",
       "    <tr>\n",
       "      <th>count</th>\n",
       "      <td>1993.000000</td>\n",
       "      <td>1993.000000</td>\n",
       "      <td>1993.000000</td>\n",
       "      <td>1993.000000</td>\n",
       "      <td>1993.000000</td>\n",
       "      <td>1993.000000</td>\n",
       "      <td>1993.000000</td>\n",
       "      <td>1993.000000</td>\n",
       "      <td>1993.000000</td>\n",
       "      <td>1993.000000</td>\n",
       "      <td>...</td>\n",
       "      <td>1993.000000</td>\n",
       "      <td>1993.000000</td>\n",
       "      <td>1993.000000</td>\n",
       "      <td>1993.000000</td>\n",
       "      <td>1993.000000</td>\n",
       "      <td>1993.000000</td>\n",
       "      <td>1993.000000</td>\n",
       "      <td>1993.000000</td>\n",
       "      <td>1993.000000</td>\n",
       "      <td>1993.000000</td>\n",
       "    </tr>\n",
       "    <tr>\n",
       "      <th>mean</th>\n",
       "      <td>0.057612</td>\n",
       "      <td>0.463437</td>\n",
       "      <td>0.179227</td>\n",
       "      <td>0.753984</td>\n",
       "      <td>0.153753</td>\n",
       "      <td>0.144089</td>\n",
       "      <td>0.424210</td>\n",
       "      <td>0.493914</td>\n",
       "      <td>0.336297</td>\n",
       "      <td>0.423086</td>\n",
       "      <td>...</td>\n",
       "      <td>0.029453</td>\n",
       "      <td>0.022790</td>\n",
       "      <td>0.215655</td>\n",
       "      <td>0.608776</td>\n",
       "      <td>0.534967</td>\n",
       "      <td>0.626322</td>\n",
       "      <td>0.651470</td>\n",
       "      <td>0.065243</td>\n",
       "      <td>0.232910</td>\n",
       "      <td>0.161741</td>\n",
       "    </tr>\n",
       "    <tr>\n",
       "      <th>std</th>\n",
       "      <td>0.126935</td>\n",
       "      <td>0.163747</td>\n",
       "      <td>0.252870</td>\n",
       "      <td>0.243807</td>\n",
       "      <td>0.208905</td>\n",
       "      <td>0.232531</td>\n",
       "      <td>0.155234</td>\n",
       "      <td>0.143584</td>\n",
       "      <td>0.166540</td>\n",
       "      <td>0.179196</td>\n",
       "      <td>...</td>\n",
       "      <td>0.102630</td>\n",
       "      <td>0.100424</td>\n",
       "      <td>0.231146</td>\n",
       "      <td>0.204314</td>\n",
       "      <td>0.181360</td>\n",
       "      <td>0.200520</td>\n",
       "      <td>0.198253</td>\n",
       "      <td>0.109485</td>\n",
       "      <td>0.203127</td>\n",
       "      <td>0.229099</td>\n",
       "    </tr>\n",
       "    <tr>\n",
       "      <th>min</th>\n",
       "      <td>0.000000</td>\n",
       "      <td>0.000000</td>\n",
       "      <td>0.000000</td>\n",
       "      <td>0.000000</td>\n",
       "      <td>0.000000</td>\n",
       "      <td>0.000000</td>\n",
       "      <td>0.000000</td>\n",
       "      <td>0.000000</td>\n",
       "      <td>0.000000</td>\n",
       "      <td>0.000000</td>\n",
       "      <td>...</td>\n",
       "      <td>0.000000</td>\n",
       "      <td>0.000000</td>\n",
       "      <td>0.000000</td>\n",
       "      <td>0.000000</td>\n",
       "      <td>0.000000</td>\n",
       "      <td>0.000000</td>\n",
       "      <td>0.000000</td>\n",
       "      <td>0.000000</td>\n",
       "      <td>0.000000</td>\n",
       "      <td>0.000000</td>\n",
       "    </tr>\n",
       "    <tr>\n",
       "      <th>25%</th>\n",
       "      <td>0.010000</td>\n",
       "      <td>0.350000</td>\n",
       "      <td>0.020000</td>\n",
       "      <td>0.630000</td>\n",
       "      <td>0.040000</td>\n",
       "      <td>0.010000</td>\n",
       "      <td>0.340000</td>\n",
       "      <td>0.410000</td>\n",
       "      <td>0.250000</td>\n",
       "      <td>0.300000</td>\n",
       "      <td>...</td>\n",
       "      <td>0.000000</td>\n",
       "      <td>0.000000</td>\n",
       "      <td>0.060000</td>\n",
       "      <td>0.470000</td>\n",
       "      <td>0.420000</td>\n",
       "      <td>0.520000</td>\n",
       "      <td>0.560000</td>\n",
       "      <td>0.020000</td>\n",
       "      <td>0.100000</td>\n",
       "      <td>0.020000</td>\n",
       "    </tr>\n",
       "    <tr>\n",
       "      <th>50%</th>\n",
       "      <td>0.020000</td>\n",
       "      <td>0.440000</td>\n",
       "      <td>0.060000</td>\n",
       "      <td>0.850000</td>\n",
       "      <td>0.070000</td>\n",
       "      <td>0.040000</td>\n",
       "      <td>0.400000</td>\n",
       "      <td>0.480000</td>\n",
       "      <td>0.290000</td>\n",
       "      <td>0.420000</td>\n",
       "      <td>...</td>\n",
       "      <td>0.000000</td>\n",
       "      <td>0.000000</td>\n",
       "      <td>0.130000</td>\n",
       "      <td>0.630000</td>\n",
       "      <td>0.540000</td>\n",
       "      <td>0.670000</td>\n",
       "      <td>0.700000</td>\n",
       "      <td>0.040000</td>\n",
       "      <td>0.170000</td>\n",
       "      <td>0.070000</td>\n",
       "    </tr>\n",
       "    <tr>\n",
       "      <th>75%</th>\n",
       "      <td>0.050000</td>\n",
       "      <td>0.540000</td>\n",
       "      <td>0.230000</td>\n",
       "      <td>0.940000</td>\n",
       "      <td>0.170000</td>\n",
       "      <td>0.160000</td>\n",
       "      <td>0.470000</td>\n",
       "      <td>0.540000</td>\n",
       "      <td>0.360000</td>\n",
       "      <td>0.530000</td>\n",
       "      <td>...</td>\n",
       "      <td>0.010000</td>\n",
       "      <td>0.000000</td>\n",
       "      <td>0.280000</td>\n",
       "      <td>0.770000</td>\n",
       "      <td>0.660000</td>\n",
       "      <td>0.770000</td>\n",
       "      <td>0.790000</td>\n",
       "      <td>0.070000</td>\n",
       "      <td>0.280000</td>\n",
       "      <td>0.190000</td>\n",
       "    </tr>\n",
       "    <tr>\n",
       "      <th>max</th>\n",
       "      <td>1.000000</td>\n",
       "      <td>1.000000</td>\n",
       "      <td>1.000000</td>\n",
       "      <td>1.000000</td>\n",
       "      <td>1.000000</td>\n",
       "      <td>1.000000</td>\n",
       "      <td>1.000000</td>\n",
       "      <td>1.000000</td>\n",
       "      <td>1.000000</td>\n",
       "      <td>1.000000</td>\n",
       "      <td>...</td>\n",
       "      <td>1.000000</td>\n",
       "      <td>1.000000</td>\n",
       "      <td>1.000000</td>\n",
       "      <td>1.000000</td>\n",
       "      <td>1.000000</td>\n",
       "      <td>1.000000</td>\n",
       "      <td>1.000000</td>\n",
       "      <td>1.000000</td>\n",
       "      <td>1.000000</td>\n",
       "      <td>1.000000</td>\n",
       "    </tr>\n",
       "  </tbody>\n",
       "</table>\n",
       "<p>8 rows × 96 columns</p>\n",
       "</div>"
      ],
      "text/plain": [
       "        population  householdsize  racepctblack  racePctWhite  racePctAsian  \\\n",
       "count  1993.000000    1993.000000   1993.000000   1993.000000   1993.000000   \n",
       "mean      0.057612       0.463437      0.179227      0.753984      0.153753   \n",
       "std       0.126935       0.163747      0.252870      0.243807      0.208905   \n",
       "min       0.000000       0.000000      0.000000      0.000000      0.000000   \n",
       "25%       0.010000       0.350000      0.020000      0.630000      0.040000   \n",
       "50%       0.020000       0.440000      0.060000      0.850000      0.070000   \n",
       "75%       0.050000       0.540000      0.230000      0.940000      0.170000   \n",
       "max       1.000000       1.000000      1.000000      1.000000      1.000000   \n",
       "\n",
       "       racePctHisp  agePct12t21  agePct12t29  agePct16t24   agePct65up  \\\n",
       "count  1993.000000  1993.000000  1993.000000  1993.000000  1993.000000   \n",
       "mean      0.144089     0.424210     0.493914     0.336297     0.423086   \n",
       "std       0.232531     0.155234     0.143584     0.166540     0.179196   \n",
       "min       0.000000     0.000000     0.000000     0.000000     0.000000   \n",
       "25%       0.010000     0.340000     0.410000     0.250000     0.300000   \n",
       "50%       0.040000     0.400000     0.480000     0.290000     0.420000   \n",
       "75%       0.160000     0.470000     0.540000     0.360000     0.530000   \n",
       "max       1.000000     1.000000     1.000000     1.000000     1.000000   \n",
       "\n",
       "            ...        NumInShelters    NumStreet  PctForeignBorn  \\\n",
       "count       ...          1993.000000  1993.000000     1993.000000   \n",
       "mean        ...             0.029453     0.022790        0.215655   \n",
       "std         ...             0.102630     0.100424        0.231146   \n",
       "min         ...             0.000000     0.000000        0.000000   \n",
       "25%         ...             0.000000     0.000000        0.060000   \n",
       "50%         ...             0.000000     0.000000        0.130000   \n",
       "75%         ...             0.010000     0.000000        0.280000   \n",
       "max         ...             1.000000     1.000000        1.000000   \n",
       "\n",
       "       PctBornSameState  PctSameHouse85  PctSameCity85  PctSameState85  \\\n",
       "count       1993.000000     1993.000000    1993.000000     1993.000000   \n",
       "mean           0.608776        0.534967       0.626322        0.651470   \n",
       "std            0.204314        0.181360       0.200520        0.198253   \n",
       "min            0.000000        0.000000       0.000000        0.000000   \n",
       "25%            0.470000        0.420000       0.520000        0.560000   \n",
       "50%            0.630000        0.540000       0.670000        0.700000   \n",
       "75%            0.770000        0.660000       0.770000        0.790000   \n",
       "max            1.000000        1.000000       1.000000        1.000000   \n",
       "\n",
       "          LandArea      PopDens  PctUsePubTrans  \n",
       "count  1993.000000  1993.000000     1993.000000  \n",
       "mean      0.065243     0.232910        0.161741  \n",
       "std       0.109485     0.203127        0.229099  \n",
       "min       0.000000     0.000000        0.000000  \n",
       "25%       0.020000     0.100000        0.020000  \n",
       "50%       0.040000     0.170000        0.070000  \n",
       "75%       0.070000     0.280000        0.190000  \n",
       "max       1.000000     1.000000        1.000000  \n",
       "\n",
       "[8 rows x 96 columns]"
      ]
     },
     "execution_count": 4,
     "metadata": {},
     "output_type": "execute_result"
    }
   ],
   "source": [
    "#Basic stats\n",
    "df.describe()"
   ]
  },
  {
   "cell_type": "code",
   "execution_count": 5,
   "metadata": {},
   "outputs": [
    {
     "name": "stdout",
     "output_type": "stream",
     "text": [
      "X_train shape: (1395, 97)\n",
      "X_test shape: (598, 97)\n",
      "y_train shape: (1395,)\n",
      "y_test shape: (598,)\n"
     ]
    }
   ],
   "source": [
    "#Train test split\n",
    "X_train, X_test, y_train, y_test = train_test_split(df, target, test_size = 0.3, random_state = 23)\n",
    "print('X_train shape: ' + str(X_train.shape))\n",
    "print('X_test shape: ' + str(X_test.shape))\n",
    "print('y_train shape: ' + str(y_train.shape))\n",
    "print('y_test shape: ' + str(y_test.shape))"
   ]
  },
  {
   "cell_type": "markdown",
   "metadata": {},
   "source": [
    "____"
   ]
  },
  {
   "cell_type": "markdown",
   "metadata": {},
   "source": [
    "### Problem 1b \n",
    "Perform standard linear regression on data using the implementation for Ch. 8 of MLA. Compute the\n",
    "RMSE value on the full training data. Also, plot the correlation between the predicted and actual values of\n",
    "the target attribute. Display the obtained regression coefficients (weights). Finally, perform 10-fold crossvalidation and compare the cross-validation RMSE to the training RMSE (for cross validation, you should\n",
    "use the KFoldmodule from sklearn.cross_validation)."
   ]
  },
  {
   "cell_type": "code",
   "execution_count": 6,
   "metadata": {},
   "outputs": [
    {
     "name": "stdout",
     "output_type": "stream",
     "text": [
      "Training RMSE = 0.12706984575174946\n",
      "Regression coeff: [ 0.18180384 -0.02456446  0.19336785 -0.0692231   0.02402757  0.10533693\n",
      "  0.10651976 -0.28684654 -0.00450859  0.15568013 -0.34153117  0.05689896\n",
      " -0.31278512 -0.17418009  0.05200266 -0.20547294 -0.05745159  0.0418954\n",
      " -0.06378795  0.41571875  0.16334943 -0.35312853 -0.0255256  -0.04713248\n",
      "  0.02572615  0.05822205  0.02050493  0.16697108 -0.18455236 -0.04589169\n",
      "  0.04642044  0.05984499 -0.00723915  0.16686814 -0.01012395  0.00999885\n",
      "  0.70361587  0.16266403  0.5734757  -1.13766631 -0.41501933 -0.01946235\n",
      " -0.19851608 -0.0338486  -0.0116426   0.05942284 -0.16889839 -0.20970299\n",
      "  0.17295796 -0.1320901   0.02803919  0.05267064 -0.12199557  0.04132845\n",
      "  0.01107641 -0.33486353  0.45899263 -0.11096538  0.0702354  -0.08814446\n",
      "  0.23000182 -0.30240472  0.55610593  0.30003273 -0.31591065 -1.2280806\n",
      "  0.15916502  0.05334984  0.02512211  0.22149232 -0.02516277  1.15062278\n",
      "  0.02449627 -0.06814524 -0.05416636  0.01070542 -0.02373715 -0.38539679\n",
      "  0.39428161 -0.11960818 -0.26154955  0.09102648 -0.02396149  0.28271551\n",
      " -0.00583818 -0.0416039  -0.03452352  0.1641573   0.12480197  0.08307837\n",
      " -0.03258087 -0.08831873  0.04827983  0.04442258  0.00529837 -0.01373551\n",
      " -0.03441289]\n"
     ]
    }
   ],
   "source": [
    "#Base model\n",
    "reg = LinearRegression()\n",
    "#Fit model\n",
    "model = reg.fit(X_train, y_train)\n",
    "train_preds = model.predict(X_train)\n",
    "#Training rmse\n",
    "print('Training RMSE = ' + str(np.sqrt(mean_squared_error(train_preds, y_train))))\n",
    "print('Regression coeff: ' + str(model.coef_))"
   ]
  },
  {
   "cell_type": "code",
   "execution_count": 7,
   "metadata": {},
   "outputs": [
    {
     "data": {
      "text/plain": [
       "<matplotlib.collections.PathCollection at 0x2a3a3dcab38>"
      ]
     },
     "execution_count": 7,
     "metadata": {},
     "output_type": "execute_result"
    },
    {
     "data": {
      "image/png": "[encoded data removed]",
      "text/plain": [
       "<Figure size 432x288 with 1 Axes>"
      ]
     },
     "metadata": {
      "needs_background": "light"
     },
     "output_type": "display_data"
    }
   ],
   "source": [
    "#Training preds vs. actual\n",
    "plt.scatter(train_preds, y_train)"
   ]
  },
  {
   "cell_type": "code",
   "execution_count": 8,
   "metadata": {},
   "outputs": [
    {
     "name": "stdout",
     "output_type": "stream",
     "text": [
      "cv scores: [0.66115654 0.67181177 0.59008449 0.6258997  0.63665183 0.61778658\n",
      " 0.71202608 0.55823714 0.54092493 0.6308973 ]\n"
     ]
    }
   ],
   "source": [
    "#Cross-validation\n",
    "cv_10f = cross_val_score(reg, X_train, y_train, cv = 10)\n",
    "print('cv scores: ' + str(cv_10f))\n",
    "#Cross-validation preds\n",
    "cv_10f_preds = cross_val_predict(reg, X_train, y_train, cv = 10)"
   ]
  },
  {
   "cell_type": "code",
   "execution_count": 9,
   "metadata": {},
   "outputs": [
    {
     "name": "stdout",
     "output_type": "stream",
     "text": [
      "kf_MSE: 0.13883607250349875\n",
      "cv_mse RMSE: 0.13932669369452322\n"
     ]
    }
   ],
   "source": [
    "#Cross-validation RMSE through mean_squared_error module\n",
    "kf = KFold(len(X_train), n_folds = 10)\n",
    "x_val = 0\n",
    "for train_ind, test_ind in kf:\n",
    "    reg.fit(X_train, y_train)\n",
    "    pred = reg.predict(X_test)\n",
    "    err = pred - y_test\n",
    "    x_val += np.sqrt(np.dot(err, err) / len(X_test))\n",
    "       \n",
    "cv_10f_kf = x_val / 10\n",
    "print('kf_MSE: ' + str(cv_10f_kf))\n",
    "\n",
    "#Cross-validation RMSE through mean_squared_error module\n",
    "print('cv_mse RMSE: ' + str(np.sqrt(mean_squared_error(cv_10f_preds, y_train))))"
   ]
  },
  {
   "cell_type": "markdown",
   "metadata": {},
   "source": [
    "_____"
   ]
  },
  {
   "cell_type": "markdown",
   "metadata": {},
   "source": [
    "### Problem 1c \n",
    "Feature Selection: use the scikit-learn regression model from sklearn.linear_model with a subset\n",
    "of features to perform linear regression. For feature selection, write a script or function that takes as input\n",
    "the training data, target variable; the model; and any other parameters you find necessary, and returns the\n",
    "optimal percentage of the most informative features to use. Your approach should use k-fold crossvalidation on the training data (you can use k=5). You can\n",
    "use feature_selection.SelectPercentile to find the most informative variables. Show the list of\n",
    "most informative variables and their weights Note: since this is regression not classification, you should\n",
    "use feature_selection.f_regression as scoring function rather than chi2). Next, plot the model's mean\n",
    "absolute error values on cross-validation relative to the percentage of selected features (See scikitlearn's metrics.mean_absolute_error). In order to use cross_validation.cross_val_score with\n",
    "regression you'll need to pass to it scoring='mean_absolute_error' as a parameter. Review scikitlearn documentation for feature selection"
   ]
  },
  {
   "cell_type": "code",
   "execution_count": 20,
   "metadata": {},
   "outputs": [],
   "source": [
    "def best_feats(train_data, train_labels, model_):\n",
    "    opt_feats = []\n",
    "    perc = list(range(1, 100, 1))\n",
    "    for i in range(1, 100, 1):\n",
    "        fs = feature_selection.SelectPercentile(feature_selection.f_regression, percentile = i)\n",
    "        train_fs = fs.fit_transform(train_data, train_labels)\n",
    "        scores = abs(cross_val_score(model_, train_fs, train_labels, scoring = 'mean_absolute_error', cv = 5))\n",
    "        opt_feats = np.append(opt_feats, scores.mean())\n",
    "    opt_perc = np.where(opt_feats == opt_feats.max())[0]\n",
    "    opt_num = int(perc[opt_perc[0]] * len(train_data.columns) / 100)\n",
    "    return opt_perc[0], opt_num"
   ]
  },
  {
   "cell_type": "code",
   "execution_count": 23,
   "metadata": {},
   "outputs": [],
   "source": [
    "#Get perc and num for features\n",
    "best = best_feats(X_train, y_train, LinearRegression())\n",
    "\n",
    "#Fit opt_perc from best \n",
    "fs = feature_selection.SelectPercentile(feature_selection.f_regression, percentile = best[0])\n",
    "train_fs = fs.fit(X_train, y_train)\n",
    "scores = abs(cross_val_score(LinearRegression(), X_train, y_train, scoring = 'mean_absolute_error', cv = 5))\n",
    "\n",
    "#Create new df with feature indexes\n",
    "cols = train_fs.get_support()\n",
    "col_names = list(X_train.columns[cols])\n",
    "features_df_train = X_train[col_names]\n",
    "features_df_test = X_test[col_names]"
   ]
  },
  {
   "cell_type": "code",
   "execution_count": 12,
   "metadata": {},
   "outputs": [
    {
     "name": "stdout",
     "output_type": "stream",
     "text": [
      "kf_MSE: 0.1414994701879717\n",
      "cv_mse RMSE: 0.13932669369452322\n"
     ]
    }
   ],
   "source": [
    "#RSME with subset df on top featues\n",
    "#Cross-validation RMSE through mean_squared_error module\n",
    "kf = KFold(len(features_df_train), n_folds = 10)\n",
    "x_val = 0\n",
    "for train_ind, test_ind in kf:\n",
    "    reg.fit(features_df_train, y_train)\n",
    "    pred = reg.predict(features_df_test)\n",
    "    err = pred - y_test\n",
    "    x_val += np.sqrt(np.dot(err, err) / len(features_df_test))\n",
    "       \n",
    "cv_10f_kf = x_val / 10\n",
    "print('kf_MSE: ' + str(cv_10f_kf))\n",
    "\n",
    "#Cross-validation RMSE through mean_squared_error module\n",
    "print('cv_mse RMSE: ' + str(np.sqrt(mean_squared_error(cv_10f_preds, y_train))))"
   ]
  },
  {
   "cell_type": "markdown",
   "metadata": {},
   "source": [
    "_____"
   ]
  },
  {
   "cell_type": "markdown",
   "metadata": {},
   "source": [
    "### Problem 1d \n",
    "Next, perform Ridge Regression and Lasso Regression using the modules\n",
    "from sklearn.linear_model. In each case, perform systematic model selection to identify the\n",
    "optimal alpha parameter. First, create a 20%-80% randomized split of the data. Set aside the test portion;\n",
    "the model selection process should be performed using the 80% training data partition. You should create a\n",
    "function that takes as input the data and target variable; the parameter to vary and a list of its values; the\n",
    "model to be trained; and any other relevant input needed to determine the optimal value for the specified\n",
    "parameter. The model selection process should perform k-fold cross validation (k should be a parameter, \n",
    "but you can select k=5 for this problem). You should also plot the error values on the training and crossvalidation splits across the specified values of the alphaparameter. Finally, using the best alpha value,\n",
    "run the model on the set-aside test data. Discuss your observation and conclusions."
   ]
  },
  {
   "cell_type": "code",
   "execution_count": 86,
   "metadata": {},
   "outputs": [],
   "source": [
    "#Ridge regression (using the same train/test data from the prior parts)\n",
    "def ridge_lasso(data, label, model_, param, param_range):\n",
    "    #Ridge\n",
    "    if model_ == 1:\n",
    "        results = []\n",
    "        #Test params in param_range\n",
    "        for num in param_range:\n",
    "            #Base model\n",
    "            rr = Ridge(alpha = num)\n",
    "            #Cv with scores\n",
    "            rr_cv_scores = abs(cross_val_score(rr, data, label, scoring = 'mean_absolute_error', cv = 5))\n",
    "            #Add to results\n",
    "            if len(results) == 0:\n",
    "                results.extend([num, rr_cv_scores.max()])\n",
    "            #Replace results with better cv score\n",
    "            elif rr_cv_scores.max() > results[1]:\n",
    "                results = [num, rr_cv_scores.max()]\n",
    "        best_rr = Ridge(alpha = results[0])\n",
    "        best_model = best_rr.fit(data, label)\n",
    "        print(results)\n",
    "    \n",
    "    #Lasso\n",
    "    if model_ == 0:\n",
    "        results = []\n",
    "        #Test params in param_range\n",
    "        for num in param_range:\n",
    "            #Base model\n",
    "            lm = Lasso(alpha = num)\n",
    "            #Cv with scores\n",
    "            lm_cv_scores = abs(cross_val_score(lm, data, label, scoring = 'mean_absolute_error', cv = 5))\n",
    "            #Add to results\n",
    "            if len(results) == 0:\n",
    "                results.extend([num, lm_cv_scores.max()])\n",
    "            #Replace results with better cv score\n",
    "            elif lm_cv_scores.max() > results[1]:\n",
    "                results = [num, lm_cv_scores.max()]\n",
    "        best_lm = Lasso(alpha = results[0])\n",
    "        best_model = best_lm.fit(data, label)\n",
    "        print(results)\n",
    "    #Return model\n",
    "    return best_model"
   ]
  },
  {
   "cell_type": "code",
   "execution_count": 87,
   "metadata": {},
   "outputs": [
    {
     "name": "stdout",
     "output_type": "stream",
     "text": [
      "[0.1, 0.1036798487480546]\n",
      "RMSE: 0.13753920468232295\n",
      " \n",
      "[0.1, 0.18164229005279992]\n",
      "RMSE: 0.24213965360863646\n"
     ]
    }
   ],
   "source": [
    "#Ridge model and RMSE\n",
    "model = ridge_lasso(X_train, y_train, 1, 'aplha', list(np.linspace(0.1, 1, 10)))\n",
    "preds = model.predict(X_test)\n",
    "print('RMSE: ' + str(np.sqrt(mean_squared_error(preds, y_test))))\n",
    "print(' ')\n",
    "\n",
    "#Lasso model and RMSE\n",
    "model = ridge_lasso(X_train, y_train, 0, 'aplha', list(np.linspace(0.1, 1, 20)))\n",
    "preds = model.predict(X_test)\n",
    "print('RMSE: ' + str(np.sqrt(mean_squared_error(preds, y_test))))"
   ]
  },
  {
   "cell_type": "markdown",
   "metadata": {},
   "source": [
    "___"
   ]
  },
  {
   "cell_type": "markdown",
   "metadata": {},
   "source": [
    "##### Discussion \n",
    "From looking at the RMSE between the two models it appears that Lasso performs better in this case. I would also look into the accuracy, percision, and AUC curves of both models before making the final decision. I was surprised to see that in both cases the best alpha was the one that had the best cv score."
   ]
  },
  {
   "cell_type": "markdown",
   "metadata": {},
   "source": [
    "_____"
   ]
  },
  {
   "cell_type": "markdown",
   "metadata": {},
   "source": [
    "#### Problem 1e \n",
    "Next, perform regression using Stochastic Gradient Descent for regression. For this part, you should use\n",
    "the SGDRegessor module from sklearn.linear_model. Again, start by a creating randomized 80%-\n",
    "20% train-test split. SGDRegessor requires that features be standardized (with 0 mean and scaled by\n",
    "standard deviation). Prior to fiting the model, perform the scaling\n",
    "using StandardScaler from sklearn.preprocessing. For this problem, perform a grid search\n",
    "(using GridSearchCV from sklearn.grid_search) Your grid search should compare combinations of\n",
    "two penalty parameters ('l2', 'l1') and different values of alpha (alpha could vary from 0.0001 which is the\n",
    "default to relatively large values, say 10). Using the best parameters, apply the model to the set-aside test\n",
    "data. Finally, perform model selection (similar to part d, above) to find the best \"l1_ratio\" parameter using\n",
    "SGDRegressor with the \"elasticnet\" penalty parameter. Note: \"l1_ratio\" is The Elastic Net mixing\n",
    "parameter, with 0 <= l1_ratio <= 1; l1_ratio=0 corresponds to L2 penalty, l1_ratio=1 to L1 penalty; defaults\n",
    "to 0.15. Using the best mixing ratio, apply the Elastic Net model to the set-aside test data. Provide a\n",
    "summary of your findings from the above experiments."
   ]
  },
  {
   "cell_type": "code",
   "execution_count": 111,
   "metadata": {},
   "outputs": [
    {
     "name": "stdout",
     "output_type": "stream",
     "text": [
      "{'alpha': 0.0001, 'penalty': 'l1'} 0.6202439592221028\n",
      "RMSE 0.019189902116753508\n",
      " \n",
      "{'alpha': 0.0001, 'l1_ratio': 0.7157894736842105, 'penalty': 'l1'} 0.6217674459250742\n",
      "RMSE 0.02162733245999105\n"
     ]
    }
   ],
   "source": [
    "#Scale data\n",
    "scaler = StandardScaler()\n",
    "X_train_fit = scaler.fit_transform(X_train)\n",
    "X_test_fit = scaler.fit_transform(X_test)\n",
    "\n",
    "#params for gridsearch\n",
    "params = {'penalty': ['l2', 'l1'], 'alpha': [0.0001, 0.1, 1, 4, 6, 9]}\n",
    "#Base SGD model\n",
    "sgd = SGDRegressor()\n",
    "#Gridsearch model\n",
    "gs = GridSearchCV(sgd, param_grid = params)\n",
    "#Fit gs to X_train_fit\n",
    "gs_model = gs.fit(X_train_fit, y_train)\n",
    "#Predict X_test_fit gs to test data\n",
    "gs_preds = gs_model.predict(X_test_fit)\n",
    "print(gs.best_params_, gs.best_score_)\n",
    "print('RMSE ' + str(mean_squared_error(gs_preds, y_test)))\n",
    "\n",
    "##params for gridsearch\n",
    "params = {'penalty': ['l1'], 'alpha': [0.0001, 0.1, 1, 4, 6, 9], 'l1_ratio': list(np.linspace(0.1, 1, 20))}\n",
    "sgd = SGDRegressor()\n",
    "#Gridsearch model\n",
    "gs = GridSearchCV(sgd, param_grid = params)\n",
    "#Fit gs to X_train_fit\n",
    "gs_model = gs.fit(X_train_fit, y_train)\n",
    "#Predict X_test_fit gs to test data\n",
    "gs_preds = gs_model.predict(X_test_fit)\n",
    "print(' ')\n",
    "print(gs.best_params_, gs.best_score_)\n",
    "print('RMSE ' + str(mean_squared_error(gs_preds, y_test)))"
   ]
  },
  {
   "cell_type": "markdown",
   "metadata": {},
   "source": [
    "___"
   ]
  },
  {
   "cell_type": "markdown",
   "metadata": {},
   "source": [
    "##### Discussion \n",
    "There doesn't appear to be much of a difference when varying the 'l1_ratio' and leaving it at the default 0.15. In fact, the best scores between the two best scores was trivial."
   ]
  },
  {
   "cell_type": "markdown",
   "metadata": {},
   "source": [
    "___"
   ]
  },
  {
   "cell_type": "markdown",
   "metadata": {},
   "source": [
    "## Problem 2 \n",
    "For this problem you will use a different subset of the 20 Newsgroup data set that you used in Assignment 2 (see\n",
    "the description of the full dataset). The subset for this assignment includes 2,500 documents (newsgroup posts),\n",
    "each belonging to one of 5 categories windows (0), crypt (1), christian (2), hockey (3), forsale (4). The\n",
    "documents are represented by 9328 terms (stems). The dictionary (vocabulary) for the data set is given in the file\n",
    "\"terms.txt\" and the full term-by-document matrix is given in \"matrix.txt\" (comma separated values). The actual\n",
    "category labels for the documents are provided in the file \"classes.txt\". Your goal in this assignment is to perform\n",
    "clustering on the documents and compare the clusters to the actual categories."
   ]
  },
  {
   "cell_type": "markdown",
   "metadata": {},
   "source": [
    "___"
   ]
  },
  {
   "cell_type": "code",
   "execution_count": 2,
   "metadata": {},
   "outputs": [],
   "source": [
    "#Import data\n",
    "doc_classes = pd.read_csv(r'https://raw.githubusercontent.com/PixarJunkie/dsc478-programming-ml-applications/master/data/news-groups-data/classes.txt', sep = ' ', header = None, names = ['id', 'doc_class'])\n",
    "doc_classes.drop(columns = ['id'], inplace = True)\n",
    "doc_classes = doc_classes.doc_class.values\n",
    "term_matrix = np.loadtxt(r'https://raw.githubusercontent.com/PixarJunkie/dsc478-programming-ml-applications/master/data/news-groups-data/matrix.txt', delimiter = ',')\n",
    "terms = pd.read_csv(r'https://raw.githubusercontent.com/PixarJunkie/dsc478-programming-ml-applications/master/data/news-groups-data/terms.txt', sep = ' ', header = None, names = ['term'])"
   ]
  },
  {
   "cell_type": "markdown",
   "metadata": {},
   "source": [
    "___"
   ]
  },
  {
   "cell_type": "markdown",
   "metadata": {},
   "source": [
    "### Problem 2a \n",
    "Create your own distance function that, instead of using Euclidean distance, uses Cosine similarity.\n",
    "This is the distance function you will use to pass to the kMeans function."
   ]
  },
  {
   "cell_type": "code",
   "execution_count": 3,
   "metadata": {},
   "outputs": [],
   "source": [
    "#Cosine similarity\n",
    "def cos_sim(x, y):\n",
    "    return np.dot(x, y) / (np.linalg.norm(x) * np.linalg.norm(y))"
   ]
  },
  {
   "cell_type": "markdown",
   "metadata": {},
   "source": [
    "___"
   ]
  },
  {
   "cell_type": "markdown",
   "metadata": {},
   "source": [
    "### Problem 2b \n",
    "Load the data set Note: the data matrix provided has terms as rows and documents as columns.\n",
    "Since you will be clustering documents, you'll need to take the transpose of this matrix so that your main\n",
    "data matrix is a document x term matrix. In Numpy, you may use the \".T\" operation to obtain the\n",
    "transpose. Then, split the data set (the document x term matrix) and set aside 20% for later use (see\n",
    "below). Use the 80% segment for clustering in the next part. The 20% portion must be a random subset.\n"
   ]
  },
  {
   "cell_type": "code",
   "execution_count": 4,
   "metadata": {},
   "outputs": [
    {
     "name": "stdout",
     "output_type": "stream",
     "text": [
      "terms_train shape: (2000, 9328)\n",
      "terms_test shape: (500, 9328)\n",
      "label_train shape: (2000,)\n",
      "label_test shape: (500,)\n"
     ]
    }
   ],
   "source": [
    "#Transpose term_matrix\n",
    "term_matrix_t = term_matrix.T\n",
    "\n",
    "#Train test split\n",
    "terms_train, terms_test, label_train, label_test = train_test_split(term_matrix_t, doc_classes, test_size = 0.20, random_state = 23)\n",
    "print('terms_train shape: ' + str(terms_train.shape))\n",
    "print('terms_test shape: ' + str(terms_test.shape))\n",
    "print('label_train shape: ' + str(label_train.shape))\n",
    "print('label_test shape: ' + str(label_test.shape))"
   ]
  },
  {
   "cell_type": "markdown",
   "metadata": {},
   "source": [
    "___"
   ]
  },
  {
   "cell_type": "markdown",
   "metadata": {},
   "source": [
    "### Problem 2c \n",
    "Perform Kmeans clustering on the training data. Write a function to display the top N terms in each\n",
    "cluster along with the cluster DF values for each term and the size of the cluster. The cluster DF value\n",
    "for a term t in a cluster C is the percentage of docs in cluster C in which term t appears (so, if a cluster\n",
    "has 500 documents, and term \"game\" appears in 100 of those 500 documents, then DF value of \"game\"\n",
    "in that cluster is 0.2 or 20%). Sort the terms for each cluster in decreasing order of the DF percentage.\n",
    "Here is an example of how this output might look like (here the top 10 terms for 3 of the 5 clusters\n",
    "are displayed in decreasing order of cluster DF values, but the mean frequnecy from the cluster centroid\n",
    "is also shown). Extra Credit: use your favorite third party tool, ideally with a Python based API, to\n",
    "create a word cloud for each cluster.\n"
   ]
  },
  {
   "cell_type": "code",
   "execution_count": 7,
   "metadata": {},
   "outputs": [],
   "source": [
    "def randCent(dataSet, k):\n",
    "\tn = dataSet.shape[1]\n",
    "\tcentroids = np.zeros((k,n), dtype=float)\n",
    "\tfor j in range(n): #create random cluster centers\n",
    "\t\tminJ = min(dataSet[:,j])\n",
    "\t\trangeJ = float(max(dataSet[:,j]) - minJ)\n",
    "\t\tcentroids[:,j] = minJ + rangeJ * np.random.rand(k)\n",
    "\treturn centroids \n",
    "\n",
    "def kMeans(dataSet, k, distMeas=cos_sim, createCent=randCent):\n",
    "    m = dataSet.shape[0]\n",
    "    clusterAssment = np.zeros((m,2))#create mat to assign data points \n",
    "                                      #to a centroid, also holds SE of each point\n",
    "    centroids = createCent(dataSet, k)\n",
    "    clusterChanged = True\n",
    "    while clusterChanged:\n",
    "        clusterChanged = False\n",
    "        for i in range(m):#for each data point assign it to the closest centroid\n",
    "            minDist = np.inf; minIndex = -1\n",
    "            for j in range(k):\n",
    "                distJI = distMeas(centroids[j,:],dataSet[i,:])\n",
    "                if distJI < minDist:\n",
    "                    minDist = distJI; minIndex = j\n",
    "            if clusterAssment[i,0] != minIndex: clusterChanged = True\n",
    "            clusterAssment[i,:] = minIndex,minDist**2\n",
    "        # print centroids\n",
    "        for cent in range(k):#recalculate centroids\n",
    "            ptsInClust = dataSet[np.nonzero(clusterAssment[:,0]==cent)[0]] #get all the point in this cluster - Note: this was incorrect in the original distribution.\n",
    "            if(len(ptsInClust)!=0):\n",
    "                centroids[cent,:] = np.mean(ptsInClust, axis=0) #assign centroid to mean - Note condition was added 10/28/2013\n",
    "    return centroids, clusterAssment\n",
    "\n",
    "def biKmeans(dataSet, k, distMeas=cos_sim):\n",
    "    m = dataSet.shape[0]\n",
    "    clusterAssment = mat(np.zeros((m,2)))\n",
    "    centroid0 = mean(dataSet, axis=0).tolist()[0]\n",
    "    centList =[centroid0] #create a list with one centroid\n",
    "    for j in range(m): #calc initial Error\n",
    "        clusterAssment[j,1] = distMeas(mat(centroid0), dataSet[j,:])**2\n",
    "    while (len(centList) < k):\n",
    "        lowestSSE = np.inf\n",
    "        for i in range(len(centList)):\n",
    "            ptsInCurrCluster = dataSet[np.nonzero(clusterAssment[:,0].A==i)[0],:] #get the data points currently in cluster i\n",
    "            centroidMat, splitClustAss = kMeans(ptsInCurrCluster, 2, distMeas)\n",
    "            sseSplit = sum(splitClustAss[:,1])#compare the SSE to the currrent minimum\n",
    "            sseNotSplit = sum(clusterAssment[np.nonzero(clusterAssment[:,0].A!=i)[0],1])\n",
    "            print (\"sseSplit, and notSplit: \",sseSplit,sseNotSplit)\n",
    "            if (sseSplit + sseNotSplit) < lowestSSE:\n",
    "                bestCentToSplit = i\n",
    "                bestNewCents = centroidMat\n",
    "                bestClustAss = splitClustAss.copy()\n",
    "                lowestSSE = sseSplit + sseNotSplit\n",
    "        bestClustAss[np.nonzero(bestClustAss[:,0] == 1)[0],0] = len(centList) #change 1 to 3,4, or whatever\n",
    "        bestClustAss[np.nonzero(bestClustAss[:,0] == 0)[0],0] = bestCentToSplit\n",
    "        print ('the bestCentToSplit is: ',bestCentToSplit)\n",
    "        print ('the len of bestClustAss is: ', len(bestClustAss))\n",
    "        centList[bestCentToSplit] = bestNewCents[0,:].tolist()[0]#replace a centroid with two best centroids \n",
    "        centList.append(bestNewCents[1,:].tolist()[0])\n",
    "        clusterAssment[np.nonzero(clusterAssment[:,0].A == bestCentToSplit)[0],:]= bestClustAss#reassign new clusters, and SSE\n",
    "    return mat(centList), clusterAssment"
   ]
  },
  {
   "cell_type": "markdown",
   "metadata": {},
   "source": [
    "When I run the below cell it loops forever and never finishes. I went ahead and compelted the other probelms with the base Kmeans though it's not utilizing the cosine similarity as the distance measure."
   ]
  },
  {
   "cell_type": "code",
   "execution_count": null,
   "metadata": {},
   "outputs": [],
   "source": [
    "#kmeans model\n",
    "kMeans(terms_train, 5)"
   ]
  },
  {
   "cell_type": "code",
   "execution_count": 51,
   "metadata": {},
   "outputs": [],
   "source": [
    "#Create kmeans model and fit to training set\n",
    "k = 5\n",
    "km = KMeans(n_clusters = k)\n",
    "km_model = km.fit(terms_train)"
   ]
  },
  {
   "cell_type": "code",
   "execution_count": 54,
   "metadata": {},
   "outputs": [
    {
     "name": "stdout",
     "output_type": "stream",
     "text": [
      "1995\n",
      "1\n",
      "2\n",
      "1\n",
      "1\n"
     ]
    }
   ],
   "source": [
    "#Create dataframe from clusters\n",
    "cluster_df = pd.DataFrame(terms_train)\n",
    "cluster_df['cluster'] = km_model.labels_\n",
    "\n",
    "#Print size of each cluster\n",
    "for i in range(0, k):\n",
    "    print(len(cluster_df[cluster_df.cluster == i]))"
   ]
  },
  {
   "cell_type": "code",
   "execution_count": 108,
   "metadata": {},
   "outputs": [
    {
     "name": "stdout",
     "output_type": "stream",
     "text": [
      "   index  frequency     term\n",
      "0   7895     2149.0  subject\n",
      "1   5795     1541.0       on\n",
      "2   9129     1266.0    write\n",
      "3   3345     1068.0      god\n",
      "4   3266      953.0      get\n",
      "   index  frequency term\n",
      "0    547    11146.0   ax\n",
      "1   4982      800.0  max\n",
      "2   6183       41.0   pl\n",
      "3    442       17.0  asq\n",
      "4   6534       11.0   qq\n",
      "   index  frequency term\n",
      "0    547     8395.0   ax\n",
      "1   4982      610.0  max\n",
      "2   6183      122.0   pl\n",
      "3   9062       67.0   wm\n",
      "4   3302       55.0  giz\n",
      "   index  frequency term\n",
      "0    547     7675.0   ax\n",
      "1   4982      559.0  max\n",
      "2   6183       58.0   pl\n",
      "3   3302       20.0  giz\n",
      "4    501       10.0   au\n",
      "   index  frequency term\n",
      "0    547     9629.0   ax\n",
      "1   4982      695.0  max\n",
      "2   6183      105.0   pl\n",
      "3   3302       46.0  giz\n",
      "4   6534       25.0   qq\n"
     ]
    }
   ],
   "source": [
    "#Get frequency and index\n",
    "top_5_0 = cluster_df[cluster_df.cluster == 0].sum().sort_values(ascending = False).head()\n",
    "top_5_1 = cluster_df[cluster_df.cluster == 1].sum().sort_values(ascending = False).head()\n",
    "top_5_2 = cluster_df[cluster_df.cluster == 2].sum().sort_values(ascending = False).head()\n",
    "top_5_3 = cluster_df[cluster_df.cluster == 3].sum().sort_values(ascending = False).head()\n",
    "top_5_4 = cluster_df[cluster_df.cluster == 4].sum().sort_values(ascending = False).head()\n",
    "\n",
    "#Create df for each cluster and join to terms df\n",
    "top_0_df = pd.DataFrame({'index': list(top_5_0.index), 'frequency': list(top_5_0)})\n",
    "top_1_df = pd.DataFrame({'index': list(top_5_1.index), 'frequency': list(top_5_1)})\n",
    "top_2_df = pd.DataFrame({'index': list(top_5_2.index), 'frequency': list(top_5_2)})\n",
    "top_3_df = pd.DataFrame({'index': list(top_5_3.index), 'frequency': list(top_5_3)})\n",
    "top_4_df = pd.DataFrame({'index': list(top_5_4.index), 'frequency': list(top_5_4)})\n",
    "\n",
    "#Create index column in terms df\n",
    "terms['index'] = terms.index\n",
    "\n",
    "#Merge dataframes\n",
    "top_0_df = pd.merge(top_0_df, terms)\n",
    "top_1_df = pd.merge(top_1_df, terms)\n",
    "top_2_df = pd.merge(top_2_df, terms)\n",
    "top_3_df = pd.merge(top_3_df, terms)\n",
    "top_4_df = pd.merge(top_4_df, terms)\n",
    "\n",
    "print(top_0_df)\n",
    "print(top_1_df)\n",
    "print(top_2_df)\n",
    "print(top_3_df)\n",
    "print(top_4_df)"
   ]
  },
  {
   "cell_type": "markdown",
   "metadata": {},
   "source": [
    "___"
   ]
  },
  {
   "cell_type": "markdown",
   "metadata": {},
   "source": [
    "#### Problem 2d \n",
    "Using the cluster assignments from Kmeans clustering, compare your 5 clusters to the 5 pre-assigned\n",
    "classes by computing the Completeness and Homogeneity values."
   ]
  },
  {
   "cell_type": "code",
   "execution_count": 114,
   "metadata": {},
   "outputs": [
    {
     "name": "stdout",
     "output_type": "stream",
     "text": [
      "homogeneity: 0.19490056025800703\n",
      "completeness: 0.002519824241950802\n"
     ]
    }
   ],
   "source": [
    "#Predict training\n",
    "train_preds = km_model.predict(terms_train)\n",
    "\n",
    "#Homogeneity and completeness values\n",
    "hcv = homogeneity_completeness_v_measure(train_preds, label_train)\n",
    "print('homogeneity: ' + str(hcv[0]))\n",
    "print('completeness: ' + str(hcv[1]))"
   ]
  },
  {
   "cell_type": "markdown",
   "metadata": {},
   "source": [
    "___"
   ]
  },
  {
   "cell_type": "markdown",
   "metadata": {},
   "source": [
    "##### Problem 2e \n",
    "Finally, using your cluster assignments as class labels, categorize each of the documents in the 20%\n",
    "set-aside data into each of the appropriate cluster. Your categorization should be based on Cosine\n",
    "similarity between each test document and cluster centroids. For each test document show the predicted\n",
    "class label as well as Cosine similarity to the corresponding cluster."
   ]
  },
  {
   "cell_type": "markdown",
   "metadata": {},
   "source": [
    "Skipping this since the cosine similarity is a major part of it and I couldn't get the kmeans function working."
   ]
  }
 ],
 "metadata": {
  "kernelspec": {
   "display_name": "Python 3",
   "language": "python",
   "name": "python3"
  },
  "language_info": {
   "codemirror_mode": {
    "name": "ipython",
    "version": 3
   },
   "file_extension": ".py",
   "mimetype": "text/x-python",
   "name": "python",
   "nbconvert_exporter": "python",
   "pygments_lexer": "ipython3",
   "version": "3.7.0"
  }
 },
 "nbformat": 4,
 "nbformat_minor": 2
}
